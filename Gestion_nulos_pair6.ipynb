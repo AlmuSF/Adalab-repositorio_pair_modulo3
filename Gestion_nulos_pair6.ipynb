{
 "cells": [
  {
   "cell_type": "code",
   "execution_count": null,
   "id": "0f35cd9e",
   "metadata": {},
   "outputs": [],
   "source": [
    "import pandas as pd\n",
    "import numpy as np\n",
    "# Imputación de nulos usando métodos avanzados estadísticos\n",
    "# -----------------------------------------------------------------------\n",
    "from sklearn.impute import SimpleImputer\n",
    "from sklearn.experimental import enable_iterative_imputer\n",
    "from sklearn.impute import IterativeImputer\n",
    "from sklearn.impute import KNNImputer\n",
    "# Librerías de visualización\n",
    "# -----------------------------------------------------------------------\n",
    "import seaborn as sns\n",
    "import matplotlib.pyplot as plt"
   ]
  },
  {
   "cell_type": "code",
   "execution_count": null,
   "id": "95298069",
   "metadata": {},
   "outputs": [],
   "source": [
    "df_merchant= pd.read_csv('merchant_fill.csv')"
   ]
  },
  {
   "cell_type": "code",
   "execution_count": null,
   "id": "395a94b7",
   "metadata": {},
   "outputs": [],
   "source": [
    "df_merchant.head()"
   ]
  },
  {
   "cell_type": "code",
   "execution_count": null,
   "id": "c3bcf7d5",
   "metadata": {},
   "outputs": [],
   "source": [
    "nulos = df_merchant.isnull().sum()\n",
    "nulos"
   ]
  },
  {
   "cell_type": "code",
   "execution_count": null,
   "id": "eaaa64f2",
   "metadata": {},
   "outputs": [],
   "source": [
    "df_merchant.shape[0]"
   ]
  },
  {
   "cell_type": "code",
   "execution_count": null,
   "id": "2f5abca0",
   "metadata": {},
   "outputs": [],
   "source": [
    "nulos= df_merchant.isnull().sum()/df_merchant.shape[0]*100\n",
    "nulos.sort_values(ascending= False)"
   ]
  },
  {
   "cell_type": "code",
   "execution_count": null,
   "id": "cab9fb31",
   "metadata": {},
   "outputs": [],
   "source": [
    "nulos= nulos[nulos>0]\n",
    "nulos.sort_values(ascending= False)"
   ]
  },
  {
   "cell_type": "code",
   "execution_count": null,
   "id": "0af35316",
   "metadata": {},
   "outputs": [],
   "source": [
    "nulos= nulos.to_frame(name= 'perc_nulos').reset_index().rename(columns={'index':'var'})\n",
    "nulos"
   ]
  },
  {
   "cell_type": "code",
   "execution_count": null,
   "id": "4b7bc5a6",
   "metadata": {},
   "outputs": [],
   "source": [
    "df_merchant.dtypes"
   ]
  },
  {
   "cell_type": "code",
   "execution_count": null,
   "id": "d9cce767",
   "metadata": {},
   "outputs": [],
   "source": [
    "df_merchant.select_dtypes(include=['number']).columns"
   ]
  },
  {
   "cell_type": "code",
   "execution_count": null,
   "id": "540b2c6e",
   "metadata": {},
   "outputs": [],
   "source": [
    "df_merchant.select_dtypes(include=['number']).head()"
   ]
  },
  {
   "cell_type": "code",
   "execution_count": null,
   "id": "df782c3d",
   "metadata": {},
   "outputs": [],
   "source": [
    "columnas_objeto = df_merchant.select_dtypes(include=['object']).columns\n",
    "columnas_nulos = nulos['var'].to_list()"
   ]
  },
  {
   "cell_type": "code",
   "execution_count": null,
   "id": "a0c01845",
   "metadata": {},
   "outputs": [],
   "source": [
    "columnas_nulos\n"
   ]
  },
  {
   "cell_type": "code",
   "execution_count": null,
   "id": "9193699c",
   "metadata": {},
   "outputs": [],
   "source": [
    "columnas_objeto"
   ]
  },
  {
   "cell_type": "code",
   "execution_count": null,
   "id": "5c6f8517",
   "metadata": {},
   "outputs": [],
   "source": [
    "columnas_comunes_objeto_nulos = columnas_objeto.intersection(columnas_nulos)\n",
    "columnas_comunes_objeto_nulos "
   ]
  },
  {
   "cell_type": "code",
   "execution_count": null,
   "id": "23281360",
   "metadata": {},
   "outputs": [],
   "source": [
    "for col in columnas_comunes_objeto_nulos:\n",
    "    print(f\"La distribución de las categorías para la columna\", col)\n",
    "    display(df_merchant[col].value_counts() / df_merchant.shape[0])  # display es una función utilizada para mostrar objetos de manera más legible en Jupyter Notebooks o entornos similares. \n",
    "    "
   ]
  },
  {
   "cell_type": "code",
   "execution_count": null,
   "id": "45e426f8",
   "metadata": {},
   "outputs": [],
   "source": [
    "nulos"
   ]
  },
  {
   "cell_type": "markdown",
   "id": "3ee24b06",
   "metadata": {},
   "source": [
    "Observaciones:\n",
    "- product_color bajo % de nulos y no tiene categoria dominante--> imputacion con nueva categoria.\n",
    "- product_variation_size_id bajo % de nulos, categoria dominante --> imputacion con la moda.\n",
    "- origin_country bajo % de nulos y categoria dominante --> imputacion con la moda.\n",
    "- merchant_name bajo % de nulos sin categoria dominante--> imputacion nueva categ.\n",
    "- merchant_info_subtitle alto % de nulos sin categoria dominante --> imputacion con técnicas más avanzadas."
   ]
  },
  {
   "cell_type": "code",
   "execution_count": null,
   "id": "4ce1515c",
   "metadata": {},
   "outputs": [],
   "source": [
    "# Seleccionando variables numéricas con nulos en df\n",
    "columnas_numero = df_merchant.select_dtypes(include=['number']).columns\n",
    "#columnas_nulos = nulos['var'].to_list()\n",
    "columnas_comunes_numero_nulos = columnas_numero.intersection(columnas_nulos)\n",
    "columnas_comunes_numero_nulos "
   ]
  },
  {
   "cell_type": "code",
   "execution_count": null,
   "id": "ddebf97a",
   "metadata": {},
   "outputs": [],
   "source": [
    "import matplotlib.pyplot as plt\n",
    "\n",
    "# Lista de columnas para las que quieres hacer histogramas\n",
    "\n",
    "# Crear un histograma separado para cada columna\n",
    "for col in list(columnas_comunes_numero_nulos):\n",
    "    plt.figure(figsize=(8, 5))\n",
    "    plt.hist(df_merchant[col].dropna(), bins=30, color='skyblue', edgecolor='black')\n",
    "    plt.title(f'Histograma de {col}')\n",
    "    plt.xlabel(col)\n",
    "    plt.ylabel('Frecuencia')\n",
    "    plt.show()"
   ]
  },
  {
   "cell_type": "code",
   "execution_count": null,
   "id": "d0e62db8",
   "metadata": {},
   "outputs": [],
   "source": [
    "nulos"
   ]
  },
  {
   "cell_type": "markdown",
   "id": "72663d4d",
   "metadata": {},
   "source": [
    "Observaciones:\n",
    "rating_five_count: baja cantidad nulos, bajo % nulo y distribución asimetrica--> aplicamos mediana\n",
    "rating_four_count: baja cantidad nulos, bajo % nulo y distribución asimetrica--> aplicamos mediana\n",
    "rating_three_count: baja cantidad nulos, bajo % nulo y distribución asimetrica--> aplicamos mediana\n",
    "rating_two_count: baja cantidad nulos, bajo % nulo y distribución asimetrica--> aplicamos mediana\n",
    "rating_one_count: baja cantidad nulos, bajo % nulo y distribución asimetrica--> aplicamos mediana"
   ]
  },
  {
   "cell_type": "code",
   "execution_count": null,
   "id": "45ae0811",
   "metadata": {},
   "outputs": [],
   "source": [
    "modas= ['product_variation_size_id', 'origin_country']\n",
    "\n",
    "for col in modas: \n",
    "    moda= df_merchant[col].mode()[0]\n",
    "    df_merchant[col] = df_merchant[col].fillna(moda)"
   ]
  },
  {
   "cell_type": "code",
   "execution_count": null,
   "id": "dd5f044b",
   "metadata": {},
   "outputs": [],
   "source": [
    "df_merchant['origin_country'].unique()"
   ]
  },
  {
   "cell_type": "code",
   "execution_count": 36,
   "id": "82cc8291",
   "metadata": {},
   "outputs": [],
   "source": [
    "unknown= ['product_color', 'merchant_name','merchant_info_subtitle']\n",
    "\n",
    "for col in unknown: \n",
    "    df_merchant[col] = df_merchant[col].fillna('Unknown')"
   ]
  },
  {
   "cell_type": "code",
   "execution_count": 37,
   "id": "78ab2622",
   "metadata": {},
   "outputs": [
    {
     "data": {
      "text/plain": [
       "array(['Unknown', '83 % avis positifs ', '83% Positive Feedback ',\n",
       "       '86 % avis positifs ', '85 % avis positifs ',\n",
       "       '75 % avis positifs ', '82 % avis positifs ',\n",
       "       '84 % avis positifs ', '87% Feedback positivo ',\n",
       "       '83% положительных отзывов ', '89 % avis positifs ',\n",
       "       '87 % avis positifs ', '86% Positive Feedback ',\n",
       "       '91 % avis positifs ', '90 % avis positifs ',\n",
       "       '81 % avis positifs ', '92 % avis positifs ', 'คำติชมเชิงบวก 82% ',\n",
       "       '88 % avis positifs ', '87% Positives Feedback ',\n",
       "       '93 % avis positifs ', '87% retroalimentación positiva ',\n",
       "       '79 % avis positifs ', '94 % avis positifs ',\n",
       "       '89% Feedback positivo ', '91% retroalimentación positiva ',\n",
       "       '89% opinii pozytywnych ', '90% opinii pozytywnych ',\n",
       "       'คำติชมเชิงบวก 83% ', '78 % avis positifs ', '80 % avis positifs ',\n",
       "       '97 % avis positifs ', '83% ردود فعل إيجابية ',\n",
       "       '73 % avis positifs ', '86% Feedback pozitiv ',\n",
       "       '82% Positives Feedback ', '77 % avis positifs ',\n",
       "       '79% Positive Feedback ', '65 % avis positifs ',\n",
       "       '87% Olumlu Geri Bildirim ', '95 % avis positifs ',\n",
       "       '80% Feedback positivo ', '83% Feedback positivo ',\n",
       "       '88% retroalimentación positiva ', '68 % avis positifs ',\n",
       "       '76 % avis positifs ', '83% Positives Feedback ',\n",
       "       '61 % avis positifs ', '81% Positive Feedback ',\n",
       "       '84% ردود فعل إيجابية ', '56 % avis positifs ',\n",
       "       '88% Feedback positivo ', '100 % avis positifs ',\n",
       "       '91% Feedback pozitiv ', '81% opinii pozytywnych ',\n",
       "       '71 % avis positifs ', '59 % avis positifs ',\n",
       "       '33 % avis positifs ', '70 % avis positifs ',\n",
       "       '96 % avis positifs ', '88% feedback positivi ',\n",
       "       '74 % avis positifs ', '53 % avis positifs ',\n",
       "       '85% Feedback pozitiv ', '93% feedback positivi ',\n",
       "       '92% opinii pozytywnych ', '87% Positive Feedback ',\n",
       "       '82% Feedback positivo ', '93% ردود فعل إيجابية ',\n",
       "       '89% Positive Feedback ', '84% положительных отзывов ',\n",
       "       '67 % avis positifs ', '92% Positive Feedback ',\n",
       "       '84% Positive Feedback '], dtype=object)"
      ]
     },
     "execution_count": 37,
     "metadata": {},
     "output_type": "execute_result"
    }
   ],
   "source": [
    "df_merchant['merchant_info_subtitle'].unique()"
   ]
  },
  {
   "cell_type": "code",
   "execution_count": null,
   "id": "585f29b0",
   "metadata": {},
   "outputs": [],
   "source": [
    "for col in list(columnas_comunes_numero_nulos):\n",
    "    plt.figure(figsize=(8, 5))\n",
    "    plt.hist(df_merchant[col].dropna(), bins=30, color='skyblue', edgecolor='black')\n",
    "    plt.title(f'Histograma de {col}')\n",
    "    plt.xlabel(col)\n",
    "    plt.ylabel('Frecuencia')\n",
    "    plt.show()"
   ]
  },
  {
   "cell_type": "markdown",
   "id": "9944066a",
   "metadata": {},
   "source": [
    "Observaciones:\n",
    "rating_five_count: baja cantidad nulos, bajo % nulo y distribución asimetrica--> aplicamos mediana\n",
    "rating_four_count: baja cantidad nulos, bajo % nulo y distribución asimetrica--> aplicamos mediana\n",
    "rating_three_count: baja cantidad nulos, bajo % nulo y distribución asimetrica--> aplicamos mediana\n",
    "rating_two_count: baja cantidad nulos, bajo % nulo y distribución asimetrica--> aplicamos mediana\n",
    "rating_one_count: baja cantidad nulos, bajo % nulo y distribución asimetrica--> aplicamos mediana"
   ]
  },
  {
   "cell_type": "code",
   "execution_count": 38,
   "id": "2db72c4c",
   "metadata": {},
   "outputs": [],
   "source": [
    "# Numéricas - Mediana\n",
    "\n",
    "# ---------------- age ----------------------------\n",
    "mediana= ['rating_five_count','rating_four_count','rating_three_count','rating_two_count','rating_one_count']\n",
    "\n",
    "for col in mediana:\n",
    "    mediana = float(df_merchant[col].median())\n",
    "    df_merchant[col] = df_merchant[col].fillna(mediana)\n"
   ]
  },
  {
   "cell_type": "code",
   "execution_count": 42,
   "id": "ccf5d0b5",
   "metadata": {},
   "outputs": [
    {
     "data": {
      "text/plain": [
       "Unnamed: 0                     0\n",
       "title                          0\n",
       "price                          0\n",
       "retail_price                   0\n",
       "units_sold                     0\n",
       "uses_ad_boosts                 0\n",
       "rating_sold                    0\n",
       "rating_count                   0\n",
       "rating_five_count              0\n",
       "rating_four_count              0\n",
       "rating_three_count             0\n",
       "rating_two_count               0\n",
       "rating_one_count               0\n",
       "badge_local_product            0\n",
       "badge_product_quality          0\n",
       "badge_fast_shipping            0\n",
       "tags                           0\n",
       "product_color                  0\n",
       "product_variation_size_id      0\n",
       "shipping_option_name           0\n",
       "shipping_option_price          0\n",
       "shipping_is_express            0\n",
       "countries_shipped_to           0\n",
       "inventory_total                0\n",
       "origin_country                 0\n",
       "merchant_name                  0\n",
       "merchant_info_subtitle         0\n",
       "merchant_rating_count          0\n",
       "merchant_rating                0\n",
       "merchant_id                    0\n",
       "product_url                    0\n",
       "product_id                     0\n",
       "listed_products                0\n",
       "total_units_sold               0\n",
       "mean_units_sold_per_product    0\n",
       "rating_employee                0\n",
       "merchant_ratings_count         0\n",
       "mean_product_prices            0\n",
       "mean_retail_prices             0\n",
       "average_discount               0\n",
       "mean_discount                  0\n",
       "mean_product_ratings_count     0\n",
       "dtype: int64"
      ]
     },
     "execution_count": 42,
     "metadata": {},
     "output_type": "execute_result"
    }
   ],
   "source": [
    "nulos = df_merchant.isnull().sum()\n",
    "nulos"
   ]
  },
  {
   "cell_type": "code",
   "execution_count": 43,
   "id": "85032f99",
   "metadata": {},
   "outputs": [],
   "source": [
    "df_merchant.to_csv('merchants_without_nulls.csv')"
   ]
  }
 ],
 "metadata": {
  "kernelspec": {
   "display_name": "base",
   "language": "python",
   "name": "python3"
  },
  "language_info": {
   "codemirror_mode": {
    "name": "ipython",
    "version": 3
   },
   "file_extension": ".py",
   "mimetype": "text/x-python",
   "name": "python",
   "nbconvert_exporter": "python",
   "pygments_lexer": "ipython3",
   "version": "3.12.7"
  }
 },
 "nbformat": 4,
 "nbformat_minor": 5
}
