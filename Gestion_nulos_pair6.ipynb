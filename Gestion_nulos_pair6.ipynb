{
 "cells": [
  {
   "cell_type": "code",
   "execution_count": null,
   "id": "0f35cd9e",
   "metadata": {},
   "outputs": [],
   "source": [
    "import pandas as pd\n",
    "import numpy as np\n",
    "# Imputación de nulos usando métodos avanzados estadísticos\n",
    "# -----------------------------------------------------------------------\n",
    "from sklearn.impute import SimpleImputer\n",
    "from sklearn.experimental import enable_iterative_imputer\n",
    "from sklearn.impute import IterativeImputer\n",
    "from sklearn.impute import KNNImputer\n",
    "# Librerías de visualización\n",
    "# -----------------------------------------------------------------------\n",
    "import seaborn as sns\n",
    "import matplotlib.pyplot as plt"
   ]
  },
  {
   "cell_type": "code",
   "execution_count": null,
   "id": "95298069",
   "metadata": {},
   "outputs": [],
   "source": [
    "df_merchant= pd.read_csv('merchant_fill.csv')"
   ]
  },
  {
   "cell_type": "code",
   "execution_count": null,
   "id": "395a94b7",
   "metadata": {},
   "outputs": [],
   "source": [
    "df_merchant.head()"
   ]
  },
  {
   "cell_type": "code",
   "execution_count": null,
   "id": "c3bcf7d5",
   "metadata": {},
   "outputs": [],
   "source": [
    "nulos = df_merchant.isnull().sum()\n",
    "nulos"
   ]
  },
  {
   "cell_type": "code",
   "execution_count": null,
   "id": "eaaa64f2",
   "metadata": {},
   "outputs": [],
   "source": [
    "df_merchant.shape[0]"
   ]
  },
  {
   "cell_type": "code",
   "execution_count": null,
   "id": "2f5abca0",
   "metadata": {},
   "outputs": [],
   "source": [
    "nulos= df_merchant.isnull().sum()/df_merchant.shape[0]*100\n",
    "nulos.sort_values(ascending= False)"
   ]
  },
  {
   "cell_type": "code",
   "execution_count": null,
   "id": "cab9fb31",
   "metadata": {},
   "outputs": [],
   "source": [
    "nulos= nulos[nulos>0]\n",
    "nulos.sort_values(ascending= False)"
   ]
  },
  {
   "cell_type": "code",
   "execution_count": null,
   "id": "0af35316",
   "metadata": {},
   "outputs": [],
   "source": [
    "nulos= nulos.to_frame(name= 'perc_nulos').reset_index().rename(columns={'index':'var'})\n",
    "nulos"
   ]
  },
  {
   "cell_type": "code",
   "execution_count": null,
   "id": "4b7bc5a6",
   "metadata": {},
   "outputs": [],
   "source": [
    "df_merchant.dtypes"
   ]
  },
  {
   "cell_type": "code",
   "execution_count": null,
   "id": "d9cce767",
   "metadata": {},
   "outputs": [],
   "source": [
    "df_merchant.select_dtypes(include=['number']).columns"
   ]
  },
  {
   "cell_type": "code",
   "execution_count": null,
   "id": "540b2c6e",
   "metadata": {},
   "outputs": [],
   "source": [
    "df_merchant.select_dtypes(include=['number']).head()"
   ]
  },
  {
   "cell_type": "code",
   "execution_count": null,
   "id": "df782c3d",
   "metadata": {},
   "outputs": [],
   "source": [
    "columnas_objeto = df_merchant.select_dtypes(include=['object']).columns\n",
    "columnas_nulos = nulos['var'].to_list()"
   ]
  },
  {
   "cell_type": "code",
   "execution_count": null,
   "id": "a0c01845",
   "metadata": {},
   "outputs": [],
   "source": [
    "columnas_nulos\n"
   ]
  },
  {
   "cell_type": "code",
   "execution_count": null,
   "id": "9193699c",
   "metadata": {},
   "outputs": [],
   "source": [
    "columnas_objeto"
   ]
  },
  {
   "cell_type": "code",
   "execution_count": null,
   "id": "5c6f8517",
   "metadata": {},
   "outputs": [],
   "source": [
    "columnas_comunes_objeto_nulos = columnas_objeto.intersection(columnas_nulos)\n",
    "columnas_comunes_objeto_nulos "
   ]
  },
  {
   "cell_type": "code",
   "execution_count": null,
   "id": "23281360",
   "metadata": {},
   "outputs": [],
   "source": [
    "for col in columnas_comunes_objeto_nulos:\n",
    "    print(f\"La distribución de las categorías para la columna\", col)\n",
    "    display(df_merchant[col].value_counts() / df_merchant.shape[0])  # display es una función utilizada para mostrar objetos de manera más legible en Jupyter Notebooks o entornos similares. \n",
    "    "
   ]
  },
  {
   "cell_type": "code",
   "execution_count": null,
   "id": "45e426f8",
   "metadata": {},
   "outputs": [],
   "source": [
    "nulos"
   ]
  },
  {
   "cell_type": "markdown",
   "id": "3ee24b06",
   "metadata": {},
   "source": [
    "Observaciones:\n",
    "- product_color bajo % de nulos y no tiene categoria dominante--> imputacion con nueva categoria.\n",
    "- product_variation_size_id bajo % de nulos, categoria dominante --> imputacion con la moda.\n",
    "- origin_country bajo % de nulos y categoria dominante --> imputacion con la moda.\n",
    "- merchant_name bajo % de nulos sin categoria dominante--> imputacion nueva categ.\n",
    "- merchant_info_subtitle alto % de nulos sin categoria dominante --> imputacion con técnicas más avanzadas."
   ]
  },
  {
   "cell_type": "code",
   "execution_count": null,
   "id": "4ce1515c",
   "metadata": {},
   "outputs": [],
   "source": [
    "# Seleccionando variables numéricas con nulos en df\n",
    "columnas_numero = df_merchant.select_dtypes(include=['number']).columns\n",
    "#columnas_nulos = nulos['var'].to_list()\n",
    "columnas_comunes_numero_nulos = columnas_numero.intersection(columnas_nulos)\n",
    "columnas_comunes_numero_nulos "
   ]
  },
  {
   "cell_type": "code",
   "execution_count": null,
   "id": "ddebf97a",
   "metadata": {},
   "outputs": [],
   "source": [
    "import matplotlib.pyplot as plt\n",
    "\n",
    "# Lista de columnas para las que quieres hacer histogramas\n",
    "\n",
    "# Crear un histograma separado para cada columna\n",
    "for col in list(columnas_comunes_numero_nulos):\n",
    "    plt.figure(figsize=(8, 5))\n",
    "    plt.hist(df_merchant[col].dropna(), bins=30, color='skyblue', edgecolor='black')\n",
    "    plt.title(f'Histograma de {col}')\n",
    "    plt.xlabel(col)\n",
    "    plt.ylabel('Frecuencia')\n",
    "    plt.show()"
   ]
  },
  {
   "cell_type": "code",
   "execution_count": null,
   "id": "d0e62db8",
   "metadata": {},
   "outputs": [],
   "source": [
    "nulos"
   ]
  },
  {
   "cell_type": "markdown",
   "id": "72663d4d",
   "metadata": {},
   "source": [
    "Observaciones:\n",
    "rating_five_count: baja cantidad nulos, bajo % nulo y distribución asimetrica--> aplicamos mediana\n",
    "rating_four_count: baja cantidad nulos, bajo % nulo y distribución asimetrica--> aplicamos mediana\n",
    "rating_three_count: baja cantidad nulos, bajo % nulo y distribución asimetrica--> aplicamos mediana\n",
    "rating_two_count: baja cantidad nulos, bajo % nulo y distribución asimetrica--> aplicamos mediana\n",
    "rating_one_count: baja cantidad nulos, bajo % nulo y distribución asimetrica--> aplicamos mediana"
   ]
  },
  {
   "cell_type": "code",
   "execution_count": null,
   "id": "45ae0811",
   "metadata": {},
   "outputs": [],
   "source": [
    "modas= ['product_variation_size_id', 'origin_country']\n",
    "\n",
    "for col in modas: \n",
    "    moda= df_merchant[col].mode()[0]\n",
    "    df_merchant[col] = df_merchant[col].fillna(moda)"
   ]
  },
  {
   "cell_type": "code",
   "execution_count": null,
   "id": "dd5f044b",
   "metadata": {},
   "outputs": [],
   "source": [
    "df_merchant['origin_country'].unique()"
   ]
  },
  {
   "cell_type": "code",
   "execution_count": null,
   "id": "82cc8291",
   "metadata": {},
   "outputs": [],
   "source": [
    "unknown= ['product_color', 'merchant_name','merchant_info_subtitle']\n",
    "\n",
    "for col in unknown: \n",
    "    df_merchant[col] = df_merchant[col].fillna('Unknown')"
   ]
  },
  {
   "cell_type": "code",
   "execution_count": null,
   "id": "78ab2622",
   "metadata": {},
   "outputs": [],
   "source": [
    "df_merchant['merchant_info_subtitle'].unique()"
   ]
  },
  {
   "cell_type": "code",
   "execution_count": null,
   "id": "585f29b0",
   "metadata": {},
   "outputs": [],
   "source": [
    "for col in list(columnas_comunes_numero_nulos):\n",
    "    plt.figure(figsize=(8, 5))\n",
    "    plt.hist(df_merchant[col].dropna(), bins=30, color='skyblue', edgecolor='black')\n",
    "    plt.title(f'Histograma de {col}')\n",
    "    plt.xlabel(col)\n",
    "    plt.ylabel('Frecuencia')\n",
    "    plt.show()"
   ]
  },
  {
   "cell_type": "markdown",
   "id": "9944066a",
   "metadata": {},
   "source": [
    "Observaciones:\n",
    "rating_five_count: baja cantidad nulos, bajo % nulo y distribución asimetrica--> aplicamos mediana\n",
    "rating_four_count: baja cantidad nulos, bajo % nulo y distribución asimetrica--> aplicamos mediana\n",
    "rating_three_count: baja cantidad nulos, bajo % nulo y distribución asimetrica--> aplicamos mediana\n",
    "rating_two_count: baja cantidad nulos, bajo % nulo y distribución asimetrica--> aplicamos mediana\n",
    "rating_one_count: baja cantidad nulos, bajo % nulo y distribución asimetrica--> aplicamos mediana"
   ]
  },
  {
   "cell_type": "code",
   "execution_count": null,
   "id": "2db72c4c",
   "metadata": {},
   "outputs": [],
   "source": [
    "# Numéricas - Mediana\n",
    "\n",
    "# ---------------- age ----------------------------\n",
    "mediana= ['rating_five_count','rating_four_count','rating_three_count','rating_two_count','rating_one_count']\n",
    "\n",
    "for col in mediana:\n",
    "    mediana = float(df_merchant[col].median())\n",
    "    df_merchant[col] = df_merchant[col].fillna(mediana)\n"
   ]
  },
  {
   "cell_type": "code",
   "execution_count": null,
   "id": "ccf5d0b5",
   "metadata": {},
   "outputs": [],
   "source": [
    "nulos = df_merchant.isnull().sum()\n",
    "nulos"
   ]
  },
  {
   "cell_type": "code",
   "execution_count": null,
   "id": "85032f99",
   "metadata": {},
   "outputs": [],
   "source": [
    "df_merchant.to_csv('merchants_without_nulls.csv')"
   ]
  },
  {
   "cell_type": "code",
   "execution_count": 7,
   "id": "489b9e6d",
   "metadata": {},
   "outputs": [],
   "source": [
    "import FuncionesNulos as fn"
   ]
  },
  {
   "cell_type": "code",
   "execution_count": 8,
   "id": "19448f9b",
   "metadata": {},
   "outputs": [
    {
     "ename": "AttributeError",
     "evalue": "module 'FuncionesNulos' has no attribute 'null_inspect'",
     "output_type": "error",
     "traceback": [
      "\u001b[0;31m---------------------------------------------------------------------------\u001b[0m",
      "\u001b[0;31mAttributeError\u001b[0m                            Traceback (most recent call last)",
      "Cell \u001b[0;32mIn[8], line 1\u001b[0m\n\u001b[0;32m----> 1\u001b[0m fn\u001b[38;5;241m.\u001b[39mnull_inspect(df_merchant, \u001b[38;5;28;01mFalse\u001b[39;00m)\n",
      "\u001b[0;31mAttributeError\u001b[0m: module 'FuncionesNulos' has no attribute 'null_inspect'"
     ]
    }
   ],
   "source": [
    "fn.null_inspect(df_merchant, False)"
   ]
  },
  {
   "cell_type": "code",
   "execution_count": null,
   "id": "40a0cebc",
   "metadata": {},
   "outputs": [],
   "source": []
  }
 ],
 "metadata": {
  "kernelspec": {
   "display_name": "base",
   "language": "python",
   "name": "python3"
  },
  "language_info": {
   "codemirror_mode": {
    "name": "ipython",
    "version": 3
   },
   "file_extension": ".py",
   "mimetype": "text/x-python",
   "name": "python",
   "nbconvert_exporter": "python",
   "pygments_lexer": "ipython3",
   "version": "3.12.7"
  }
 },
 "nbformat": 4,
 "nbformat_minor": 5
}
