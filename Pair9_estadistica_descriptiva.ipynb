{
 "cells": [
  {
   "cell_type": "code",
   "execution_count": 1,
   "id": "ca3feeac",
   "metadata": {},
   "outputs": [],
   "source": [
    "# importamos las librerías que necesitamos\n",
    "\n",
    "# Tratamiento de datos\n",
    "# -----------------------------------------------------------------------\n",
    "import pandas as pd\n",
    "import numpy as np\n",
    "\n",
    "# Visualización\n",
    "# ------------------------------------------------------------------------------\n",
    "import matplotlib.pyplot as plt\n",
    "import seaborn as sns\n",
    "\n",
    "# Evaluar linealidad de las relaciones entre las variables\n",
    "# ------------------------------------------------------------------------------\n",
    "from scipy.stats import shapiro, kstest\n",
    "\n",
    "# Configuración\n",
    "# -----------------------------------------------------------------------\n",
    "pd.set_option('display.max_columns', None) # para poder visualizar todas las columnas de los DataFrames\n",
    "\n",
    "# Gestión de los warnings\n",
    "# -----------------------------------------------------------------------\n",
    "import warnings\n",
    "warnings.filterwarnings(\"ignore\")"
   ]
  },
  {
   "cell_type": "code",
   "execution_count": 2,
   "id": "5a998aef",
   "metadata": {},
   "outputs": [
    {
     "data": {
      "application/vnd.microsoft.datawrangler.viewer.v0+json": {
       "columns": [
        {
         "name": "index",
         "rawType": "int64",
         "type": "integer"
        },
        {
         "name": "title",
         "rawType": "object",
         "type": "string"
        },
        {
         "name": "price",
         "rawType": "float64",
         "type": "float"
        },
        {
         "name": "retail_price",
         "rawType": "int64",
         "type": "integer"
        },
        {
         "name": "units_sold",
         "rawType": "int64",
         "type": "integer"
        },
        {
         "name": "uses_ad_boosts",
         "rawType": "object",
         "type": "string"
        },
        {
         "name": "rating_sold",
         "rawType": "float64",
         "type": "float"
        },
        {
         "name": "rating_count",
         "rawType": "int64",
         "type": "integer"
        },
        {
         "name": "badge_local_product",
         "rawType": "object",
         "type": "string"
        },
        {
         "name": "badge_product_quality",
         "rawType": "object",
         "type": "string"
        },
        {
         "name": "badge_fast_shipping",
         "rawType": "object",
         "type": "string"
        },
        {
         "name": "tags",
         "rawType": "object",
         "type": "string"
        },
        {
         "name": "product_color",
         "rawType": "object",
         "type": "string"
        },
        {
         "name": "product_variation_size_id",
         "rawType": "object",
         "type": "string"
        },
        {
         "name": "shipping_option_name",
         "rawType": "object",
         "type": "string"
        },
        {
         "name": "shipping_option_price",
         "rawType": "int64",
         "type": "integer"
        },
        {
         "name": "shipping_is_express",
         "rawType": "object",
         "type": "string"
        },
        {
         "name": "countries_shipped_to",
         "rawType": "int64",
         "type": "integer"
        },
        {
         "name": "inventory_total",
         "rawType": "int64",
         "type": "integer"
        },
        {
         "name": "origin_country",
         "rawType": "object",
         "type": "string"
        },
        {
         "name": "merchant_name",
         "rawType": "object",
         "type": "string"
        },
        {
         "name": "merchant_info_subtitle",
         "rawType": "object",
         "type": "string"
        },
        {
         "name": "merchant_rating_count",
         "rawType": "int64",
         "type": "integer"
        },
        {
         "name": "merchant_id",
         "rawType": "object",
         "type": "string"
        },
        {
         "name": "product_url",
         "rawType": "object",
         "type": "string"
        },
        {
         "name": "product_id",
         "rawType": "object",
         "type": "string"
        },
        {
         "name": "listed_products",
         "rawType": "int64",
         "type": "integer"
        },
        {
         "name": "total_units_sold",
         "rawType": "int64",
         "type": "integer"
        },
        {
         "name": "mean_units_sold_per_product",
         "rawType": "float64",
         "type": "float"
        },
        {
         "name": "rating_employee",
         "rawType": "float64",
         "type": "float"
        },
        {
         "name": "merchant_ratings_count",
         "rawType": "float64",
         "type": "float"
        },
        {
         "name": "mean_product_prices",
         "rawType": "float64",
         "type": "float"
        },
        {
         "name": "mean_retail_prices",
         "rawType": "float64",
         "type": "float"
        },
        {
         "name": "mean_product_ratings_count",
         "rawType": "float64",
         "type": "float"
        },
        {
         "name": "discount_percentage",
         "rawType": "float64",
         "type": "float"
        },
        {
         "name": "seller_reputation",
         "rawType": "object",
         "type": "string"
        },
        {
         "name": "rating_four_count",
         "rawType": "float64",
         "type": "float"
        },
        {
         "name": "rating_three_count",
         "rawType": "float64",
         "type": "float"
        },
        {
         "name": "rating_two_count",
         "rawType": "float64",
         "type": "float"
        },
        {
         "name": "rating_one_count",
         "rawType": "float64",
         "type": "float"
        },
        {
         "name": "rating_five_count",
         "rawType": "float64",
         "type": "float"
        }
       ],
       "ref": "8271d03e-bcf3-4f40-be73-9ef5a86b0f8c",
       "rows": [
        [
         "0",
         "2020 Summer Vintage Flamingo Print  Pajamas Set Casual Loose T Shirt Top And Elastic Shorts Women Sleepwear Night Wear Loungewear Sets",
         "16.0",
         "14",
         "100",
         "No",
         "3.76",
         "54",
         "No",
         "Buena",
         "No",
         "Summer,Fashion,womenunderwearsuit,printedpajamasset,womencasualshort,Women's Fashion,flamingo,loungewearset,Casual,Shirt,casualsleepwear,Shorts,flamingotshirt,Elastic,Vintage,Tops,tshirtandshortsset,Women,Sleepwear,Print,womenpajamasset,womennightwear,Pajamas,womensleepwearset",
         "white",
         "M",
         "Livraison standard",
         "4",
         "No",
         "34",
         "50",
         "CN",
         "zgrdejia",
         "Unknown",
         "568",
         "595097d6a26f6e070cb878d1",
         "https://www.wish.com/c/5e9ae51d43d6a96e303acdb0",
         "5e9ae51d43d6a96e303acdb0",
         "1",
         "100",
         "100.0",
         "4.129",
         "568.0",
         "16.0",
         "14.0",
         "54.0",
         "14.29",
         "Buena",
         "8.0",
         "10.0",
         "1.0",
         "9.0",
         "26.0"
        ],
        [
         "1",
         "SSHOUSE Summer Casual Sleeveless Soirée Party Soirée sans manches Vêtements de plage sexy Mini robe femme wshC1612242400387A21",
         "8.0",
         "22",
         "20000",
         "Si",
         "3.45",
         "6135",
         "No",
         "Buena",
         "No",
         "Mini,womens dresses,Summer,Patchwork,fashion dress,Dress,Mini dress,Women's Fashion,Women S Clothing,backless,party,summer dresses,sleeveless,sexy,Casual",
         "green",
         "XS",
         "Livraison standard",
         "2",
         "No",
         "41",
         "50",
         "CN",
         "sarahouse",
         "83 % avis positifs ",
         "17752",
         "56458aa03a698c35c9050988",
         "https://www.wish.com/c/58940d436a0d3d5da4e95a38",
         "58940d436a0d3d5da4e95a38",
         "6",
         "21400",
         "3567.0",
         "3.9",
         "17752.0",
         "5.68",
         "10.33",
         "1057.0",
         "-63.64",
         "Regular",
         "1027.0",
         "1118.0",
         "644.0",
         "1077.0",
         "2269.0"
        ],
        [
         "2",
         "Nouvelle mode d'été femmes robe décontractée col rond lâche Big Swing jupe sans manches Soild couleur robe de plage",
         "4.9",
         "8",
         "1000",
         "Si",
         "3.83",
         "99",
         "No",
         "Buena",
         "No",
         "Summer,Fashion,Necks,Beach,Dress,Loose,beach dress,Round neck,Women's Fashion,sleeveless,Skirts,Casual,Women",
         "white",
         "XXS",
         "Livraison standard",
         "1",
         "No",
         "41",
         "50",
         "CN",
         "sarahouse",
         "83 % avis positifs ",
         "17752",
         "56458aa03a698c35c9050988",
         "https://www.wish.com/c/5df2576d68963c1660471f9a",
         "5df2576d68963c1660471f9a",
         "6",
         "21400",
         "3567.0",
         "3.9",
         "17752.0",
         "5.68",
         "10.33",
         "1057.0",
         "-38.75",
         "Regular",
         "18.0",
         "23.0",
         "8.0",
         "7.0",
         "43.0"
        ],
        [
         "3",
         " Summer Women s Fashion Lace Up Tie Pants Plus Size Casual High Waist Short Pants(S-5XL)",
         "4.93",
         "6",
         "100",
         "No",
         "3.77",
         "47",
         "No",
         "Buena",
         "No",
         "Summer,Shorts,Lace,pants,Waist,Short pants,Yellow,Women's Fashion,Plus Size,Lace Up,Women,Fashion,Casual,high waist",
         "red",
         "S",
         "Standard Shipping",
         "1",
         "No",
         "41",
         "50",
         "CN",
         "sarahouse",
         "83% Positive Feedback ",
         "17752",
         "56458aa03a698c35c9050988",
         "https://www.wish.com/c/5d58daef3159a812b05933d2",
         "5d58daef3159a812b05933d2",
         "6",
         "21400",
         "3567.0",
         "3.9",
         "17752.0",
         "5.68",
         "10.33",
         "1057.0",
         "-17.83",
         "Regular",
         "7.0",
         "8.0",
         "5.0",
         "5.0",
         "22.0"
        ],
        [
         "4",
         "Nouvelle mode d'été femmes robe décontractée col rond lâche Big Swing jupe sans manches Soild couleur robe de plage",
         "5.65",
         "10",
         "100",
         "Si",
         "2.86",
         "7",
         "No",
         "Buena",
         "No",
         "Summer,Fashion,Necks,Skirts,Dress,Loose,Women's Fashion,Round neck,beach dress,sleeveless,Beach,Casual,Women",
         "black",
         "XXS",
         "Livraison standard",
         "1",
         "No",
         "41",
         "50",
         "CN",
         "sarahouse",
         "83 % avis positifs ",
         "17752",
         "56458aa03a698c35c9050988",
         "https://www.wish.com/c/5e9fa7de39682a0043ab7898",
         "5e9fa7de39682a0043ab7898",
         "6",
         "21400",
         "3567.0",
         "3.9",
         "17752.0",
         "5.68",
         "10.33",
         "1057.0",
         "-43.5",
         "Regular",
         "1.0",
         "2.0",
         "2.0",
         "1.0",
         "1.0"
        ]
       ],
       "shape": {
        "columns": 40,
        "rows": 5
       }
      },
      "text/html": [
       "<div>\n",
       "<style scoped>\n",
       "    .dataframe tbody tr th:only-of-type {\n",
       "        vertical-align: middle;\n",
       "    }\n",
       "\n",
       "    .dataframe tbody tr th {\n",
       "        vertical-align: top;\n",
       "    }\n",
       "\n",
       "    .dataframe thead th {\n",
       "        text-align: right;\n",
       "    }\n",
       "</style>\n",
       "<table border=\"1\" class=\"dataframe\">\n",
       "  <thead>\n",
       "    <tr style=\"text-align: right;\">\n",
       "      <th></th>\n",
       "      <th>title</th>\n",
       "      <th>price</th>\n",
       "      <th>retail_price</th>\n",
       "      <th>units_sold</th>\n",
       "      <th>uses_ad_boosts</th>\n",
       "      <th>rating_sold</th>\n",
       "      <th>rating_count</th>\n",
       "      <th>badge_local_product</th>\n",
       "      <th>badge_product_quality</th>\n",
       "      <th>badge_fast_shipping</th>\n",
       "      <th>tags</th>\n",
       "      <th>product_color</th>\n",
       "      <th>product_variation_size_id</th>\n",
       "      <th>shipping_option_name</th>\n",
       "      <th>shipping_option_price</th>\n",
       "      <th>shipping_is_express</th>\n",
       "      <th>countries_shipped_to</th>\n",
       "      <th>inventory_total</th>\n",
       "      <th>origin_country</th>\n",
       "      <th>merchant_name</th>\n",
       "      <th>merchant_info_subtitle</th>\n",
       "      <th>merchant_rating_count</th>\n",
       "      <th>merchant_id</th>\n",
       "      <th>product_url</th>\n",
       "      <th>product_id</th>\n",
       "      <th>listed_products</th>\n",
       "      <th>total_units_sold</th>\n",
       "      <th>mean_units_sold_per_product</th>\n",
       "      <th>rating_employee</th>\n",
       "      <th>merchant_ratings_count</th>\n",
       "      <th>mean_product_prices</th>\n",
       "      <th>mean_retail_prices</th>\n",
       "      <th>mean_product_ratings_count</th>\n",
       "      <th>discount_percentage</th>\n",
       "      <th>seller_reputation</th>\n",
       "      <th>rating_four_count</th>\n",
       "      <th>rating_three_count</th>\n",
       "      <th>rating_two_count</th>\n",
       "      <th>rating_one_count</th>\n",
       "      <th>rating_five_count</th>\n",
       "    </tr>\n",
       "  </thead>\n",
       "  <tbody>\n",
       "    <tr>\n",
       "      <th>0</th>\n",
       "      <td>2020 Summer Vintage Flamingo Print  Pajamas Se...</td>\n",
       "      <td>16.00</td>\n",
       "      <td>14</td>\n",
       "      <td>100</td>\n",
       "      <td>No</td>\n",
       "      <td>3.76</td>\n",
       "      <td>54</td>\n",
       "      <td>No</td>\n",
       "      <td>Buena</td>\n",
       "      <td>No</td>\n",
       "      <td>Summer,Fashion,womenunderwearsuit,printedpajam...</td>\n",
       "      <td>white</td>\n",
       "      <td>M</td>\n",
       "      <td>Livraison standard</td>\n",
       "      <td>4</td>\n",
       "      <td>No</td>\n",
       "      <td>34</td>\n",
       "      <td>50</td>\n",
       "      <td>CN</td>\n",
       "      <td>zgrdejia</td>\n",
       "      <td>Unknown</td>\n",
       "      <td>568</td>\n",
       "      <td>595097d6a26f6e070cb878d1</td>\n",
       "      <td>https://www.wish.com/c/5e9ae51d43d6a96e303acdb0</td>\n",
       "      <td>5e9ae51d43d6a96e303acdb0</td>\n",
       "      <td>1</td>\n",
       "      <td>100</td>\n",
       "      <td>100.0</td>\n",
       "      <td>4.129</td>\n",
       "      <td>568.0</td>\n",
       "      <td>16.00</td>\n",
       "      <td>14.00</td>\n",
       "      <td>54.0</td>\n",
       "      <td>14.29</td>\n",
       "      <td>Buena</td>\n",
       "      <td>8.0</td>\n",
       "      <td>10.0</td>\n",
       "      <td>1.0</td>\n",
       "      <td>9.0</td>\n",
       "      <td>26.0</td>\n",
       "    </tr>\n",
       "    <tr>\n",
       "      <th>1</th>\n",
       "      <td>SSHOUSE Summer Casual Sleeveless Soirée Party ...</td>\n",
       "      <td>8.00</td>\n",
       "      <td>22</td>\n",
       "      <td>20000</td>\n",
       "      <td>Si</td>\n",
       "      <td>3.45</td>\n",
       "      <td>6135</td>\n",
       "      <td>No</td>\n",
       "      <td>Buena</td>\n",
       "      <td>No</td>\n",
       "      <td>Mini,womens dresses,Summer,Patchwork,fashion d...</td>\n",
       "      <td>green</td>\n",
       "      <td>XS</td>\n",
       "      <td>Livraison standard</td>\n",
       "      <td>2</td>\n",
       "      <td>No</td>\n",
       "      <td>41</td>\n",
       "      <td>50</td>\n",
       "      <td>CN</td>\n",
       "      <td>sarahouse</td>\n",
       "      <td>83 % avis positifs</td>\n",
       "      <td>17752</td>\n",
       "      <td>56458aa03a698c35c9050988</td>\n",
       "      <td>https://www.wish.com/c/58940d436a0d3d5da4e95a38</td>\n",
       "      <td>58940d436a0d3d5da4e95a38</td>\n",
       "      <td>6</td>\n",
       "      <td>21400</td>\n",
       "      <td>3567.0</td>\n",
       "      <td>3.900</td>\n",
       "      <td>17752.0</td>\n",
       "      <td>5.68</td>\n",
       "      <td>10.33</td>\n",
       "      <td>1057.0</td>\n",
       "      <td>-63.64</td>\n",
       "      <td>Regular</td>\n",
       "      <td>1027.0</td>\n",
       "      <td>1118.0</td>\n",
       "      <td>644.0</td>\n",
       "      <td>1077.0</td>\n",
       "      <td>2269.0</td>\n",
       "    </tr>\n",
       "    <tr>\n",
       "      <th>2</th>\n",
       "      <td>Nouvelle mode d'été femmes robe décontractée c...</td>\n",
       "      <td>4.90</td>\n",
       "      <td>8</td>\n",
       "      <td>1000</td>\n",
       "      <td>Si</td>\n",
       "      <td>3.83</td>\n",
       "      <td>99</td>\n",
       "      <td>No</td>\n",
       "      <td>Buena</td>\n",
       "      <td>No</td>\n",
       "      <td>Summer,Fashion,Necks,Beach,Dress,Loose,beach d...</td>\n",
       "      <td>white</td>\n",
       "      <td>XXS</td>\n",
       "      <td>Livraison standard</td>\n",
       "      <td>1</td>\n",
       "      <td>No</td>\n",
       "      <td>41</td>\n",
       "      <td>50</td>\n",
       "      <td>CN</td>\n",
       "      <td>sarahouse</td>\n",
       "      <td>83 % avis positifs</td>\n",
       "      <td>17752</td>\n",
       "      <td>56458aa03a698c35c9050988</td>\n",
       "      <td>https://www.wish.com/c/5df2576d68963c1660471f9a</td>\n",
       "      <td>5df2576d68963c1660471f9a</td>\n",
       "      <td>6</td>\n",
       "      <td>21400</td>\n",
       "      <td>3567.0</td>\n",
       "      <td>3.900</td>\n",
       "      <td>17752.0</td>\n",
       "      <td>5.68</td>\n",
       "      <td>10.33</td>\n",
       "      <td>1057.0</td>\n",
       "      <td>-38.75</td>\n",
       "      <td>Regular</td>\n",
       "      <td>18.0</td>\n",
       "      <td>23.0</td>\n",
       "      <td>8.0</td>\n",
       "      <td>7.0</td>\n",
       "      <td>43.0</td>\n",
       "    </tr>\n",
       "    <tr>\n",
       "      <th>3</th>\n",
       "      <td>Summer Women s Fashion Lace Up Tie Pants Plus...</td>\n",
       "      <td>4.93</td>\n",
       "      <td>6</td>\n",
       "      <td>100</td>\n",
       "      <td>No</td>\n",
       "      <td>3.77</td>\n",
       "      <td>47</td>\n",
       "      <td>No</td>\n",
       "      <td>Buena</td>\n",
       "      <td>No</td>\n",
       "      <td>Summer,Shorts,Lace,pants,Waist,Short pants,Yel...</td>\n",
       "      <td>red</td>\n",
       "      <td>S</td>\n",
       "      <td>Standard Shipping</td>\n",
       "      <td>1</td>\n",
       "      <td>No</td>\n",
       "      <td>41</td>\n",
       "      <td>50</td>\n",
       "      <td>CN</td>\n",
       "      <td>sarahouse</td>\n",
       "      <td>83% Positive Feedback</td>\n",
       "      <td>17752</td>\n",
       "      <td>56458aa03a698c35c9050988</td>\n",
       "      <td>https://www.wish.com/c/5d58daef3159a812b05933d2</td>\n",
       "      <td>5d58daef3159a812b05933d2</td>\n",
       "      <td>6</td>\n",
       "      <td>21400</td>\n",
       "      <td>3567.0</td>\n",
       "      <td>3.900</td>\n",
       "      <td>17752.0</td>\n",
       "      <td>5.68</td>\n",
       "      <td>10.33</td>\n",
       "      <td>1057.0</td>\n",
       "      <td>-17.83</td>\n",
       "      <td>Regular</td>\n",
       "      <td>7.0</td>\n",
       "      <td>8.0</td>\n",
       "      <td>5.0</td>\n",
       "      <td>5.0</td>\n",
       "      <td>22.0</td>\n",
       "    </tr>\n",
       "    <tr>\n",
       "      <th>4</th>\n",
       "      <td>Nouvelle mode d'été femmes robe décontractée c...</td>\n",
       "      <td>5.65</td>\n",
       "      <td>10</td>\n",
       "      <td>100</td>\n",
       "      <td>Si</td>\n",
       "      <td>2.86</td>\n",
       "      <td>7</td>\n",
       "      <td>No</td>\n",
       "      <td>Buena</td>\n",
       "      <td>No</td>\n",
       "      <td>Summer,Fashion,Necks,Skirts,Dress,Loose,Women'...</td>\n",
       "      <td>black</td>\n",
       "      <td>XXS</td>\n",
       "      <td>Livraison standard</td>\n",
       "      <td>1</td>\n",
       "      <td>No</td>\n",
       "      <td>41</td>\n",
       "      <td>50</td>\n",
       "      <td>CN</td>\n",
       "      <td>sarahouse</td>\n",
       "      <td>83 % avis positifs</td>\n",
       "      <td>17752</td>\n",
       "      <td>56458aa03a698c35c9050988</td>\n",
       "      <td>https://www.wish.com/c/5e9fa7de39682a0043ab7898</td>\n",
       "      <td>5e9fa7de39682a0043ab7898</td>\n",
       "      <td>6</td>\n",
       "      <td>21400</td>\n",
       "      <td>3567.0</td>\n",
       "      <td>3.900</td>\n",
       "      <td>17752.0</td>\n",
       "      <td>5.68</td>\n",
       "      <td>10.33</td>\n",
       "      <td>1057.0</td>\n",
       "      <td>-43.50</td>\n",
       "      <td>Regular</td>\n",
       "      <td>1.0</td>\n",
       "      <td>2.0</td>\n",
       "      <td>2.0</td>\n",
       "      <td>1.0</td>\n",
       "      <td>1.0</td>\n",
       "    </tr>\n",
       "  </tbody>\n",
       "</table>\n",
       "</div>"
      ],
      "text/plain": [
       "                                               title  price  retail_price  \\\n",
       "0  2020 Summer Vintage Flamingo Print  Pajamas Se...  16.00            14   \n",
       "1  SSHOUSE Summer Casual Sleeveless Soirée Party ...   8.00            22   \n",
       "2  Nouvelle mode d'été femmes robe décontractée c...   4.90             8   \n",
       "3   Summer Women s Fashion Lace Up Tie Pants Plus...   4.93             6   \n",
       "4  Nouvelle mode d'été femmes robe décontractée c...   5.65            10   \n",
       "\n",
       "   units_sold uses_ad_boosts  rating_sold  rating_count badge_local_product  \\\n",
       "0         100             No         3.76            54                  No   \n",
       "1       20000             Si         3.45          6135                  No   \n",
       "2        1000             Si         3.83            99                  No   \n",
       "3         100             No         3.77            47                  No   \n",
       "4         100             Si         2.86             7                  No   \n",
       "\n",
       "  badge_product_quality badge_fast_shipping  \\\n",
       "0                 Buena                  No   \n",
       "1                 Buena                  No   \n",
       "2                 Buena                  No   \n",
       "3                 Buena                  No   \n",
       "4                 Buena                  No   \n",
       "\n",
       "                                                tags product_color  \\\n",
       "0  Summer,Fashion,womenunderwearsuit,printedpajam...         white   \n",
       "1  Mini,womens dresses,Summer,Patchwork,fashion d...         green   \n",
       "2  Summer,Fashion,Necks,Beach,Dress,Loose,beach d...         white   \n",
       "3  Summer,Shorts,Lace,pants,Waist,Short pants,Yel...           red   \n",
       "4  Summer,Fashion,Necks,Skirts,Dress,Loose,Women'...         black   \n",
       "\n",
       "  product_variation_size_id shipping_option_name  shipping_option_price  \\\n",
       "0                         M   Livraison standard                      4   \n",
       "1                        XS   Livraison standard                      2   \n",
       "2                       XXS   Livraison standard                      1   \n",
       "3                         S    Standard Shipping                      1   \n",
       "4                       XXS   Livraison standard                      1   \n",
       "\n",
       "  shipping_is_express  countries_shipped_to  inventory_total origin_country  \\\n",
       "0                  No                    34               50             CN   \n",
       "1                  No                    41               50             CN   \n",
       "2                  No                    41               50             CN   \n",
       "3                  No                    41               50             CN   \n",
       "4                  No                    41               50             CN   \n",
       "\n",
       "  merchant_name  merchant_info_subtitle  merchant_rating_count  \\\n",
       "0      zgrdejia                 Unknown                    568   \n",
       "1     sarahouse     83 % avis positifs                   17752   \n",
       "2     sarahouse     83 % avis positifs                   17752   \n",
       "3     sarahouse  83% Positive Feedback                   17752   \n",
       "4     sarahouse     83 % avis positifs                   17752   \n",
       "\n",
       "                merchant_id                                      product_url  \\\n",
       "0  595097d6a26f6e070cb878d1  https://www.wish.com/c/5e9ae51d43d6a96e303acdb0   \n",
       "1  56458aa03a698c35c9050988  https://www.wish.com/c/58940d436a0d3d5da4e95a38   \n",
       "2  56458aa03a698c35c9050988  https://www.wish.com/c/5df2576d68963c1660471f9a   \n",
       "3  56458aa03a698c35c9050988  https://www.wish.com/c/5d58daef3159a812b05933d2   \n",
       "4  56458aa03a698c35c9050988  https://www.wish.com/c/5e9fa7de39682a0043ab7898   \n",
       "\n",
       "                 product_id  listed_products  total_units_sold  \\\n",
       "0  5e9ae51d43d6a96e303acdb0                1               100   \n",
       "1  58940d436a0d3d5da4e95a38                6             21400   \n",
       "2  5df2576d68963c1660471f9a                6             21400   \n",
       "3  5d58daef3159a812b05933d2                6             21400   \n",
       "4  5e9fa7de39682a0043ab7898                6             21400   \n",
       "\n",
       "   mean_units_sold_per_product  rating_employee  merchant_ratings_count  \\\n",
       "0                        100.0            4.129                   568.0   \n",
       "1                       3567.0            3.900                 17752.0   \n",
       "2                       3567.0            3.900                 17752.0   \n",
       "3                       3567.0            3.900                 17752.0   \n",
       "4                       3567.0            3.900                 17752.0   \n",
       "\n",
       "   mean_product_prices  mean_retail_prices  mean_product_ratings_count  \\\n",
       "0                16.00               14.00                        54.0   \n",
       "1                 5.68               10.33                      1057.0   \n",
       "2                 5.68               10.33                      1057.0   \n",
       "3                 5.68               10.33                      1057.0   \n",
       "4                 5.68               10.33                      1057.0   \n",
       "\n",
       "   discount_percentage seller_reputation  rating_four_count  \\\n",
       "0                14.29             Buena                8.0   \n",
       "1               -63.64           Regular             1027.0   \n",
       "2               -38.75           Regular               18.0   \n",
       "3               -17.83           Regular                7.0   \n",
       "4               -43.50           Regular                1.0   \n",
       "\n",
       "   rating_three_count  rating_two_count  rating_one_count  rating_five_count  \n",
       "0                10.0               1.0               9.0               26.0  \n",
       "1              1118.0             644.0            1077.0             2269.0  \n",
       "2                23.0               8.0               7.0               43.0  \n",
       "3                 8.0               5.0               5.0               22.0  \n",
       "4                 2.0               2.0               1.0                1.0  "
      ]
     },
     "execution_count": 2,
     "metadata": {},
     "output_type": "execute_result"
    }
   ],
   "source": [
    "df = pd.read_csv(\"merchant_fill_nonulls.csv\", index_col = 0)\n",
    "\n",
    "df.head()"
   ]
  },
  {
   "cell_type": "code",
   "execution_count": 4,
   "id": "18f9ab14",
   "metadata": {},
   "outputs": [
    {
     "data": {
      "text/plain": [
       "Index(['title', 'price', 'retail_price', 'units_sold', 'uses_ad_boosts',\n",
       "       'rating_sold', 'rating_count', 'badge_local_product',\n",
       "       'badge_product_quality', 'badge_fast_shipping', 'tags', 'product_color',\n",
       "       'product_variation_size_id', 'shipping_option_name',\n",
       "       'shipping_option_price', 'shipping_is_express', 'countries_shipped_to',\n",
       "       'inventory_total', 'origin_country', 'merchant_name',\n",
       "       'merchant_info_subtitle', 'merchant_rating_count', 'merchant_id',\n",
       "       'product_url', 'product_id', 'listed_products', 'total_units_sold',\n",
       "       'mean_units_sold_per_product', 'rating_employee',\n",
       "       'merchant_ratings_count', 'mean_product_prices', 'mean_retail_prices',\n",
       "       'mean_product_ratings_count', 'discount_percentage',\n",
       "       'seller_reputation', 'rating_four_count', 'rating_three_count',\n",
       "       'rating_two_count', 'rating_one_count', 'rating_five_count'],\n",
       "      dtype='object')"
      ]
     },
     "execution_count": 4,
     "metadata": {},
     "output_type": "execute_result"
    }
   ],
   "source": [
    "df.columns"
   ]
  },
  {
   "cell_type": "markdown",
   "id": "4ff6793a",
   "metadata": {},
   "source": [
    "# 1 - Calcular media y mediana de los precios\n",
    "1) La variable price representa el precio de los productos. Calcula tanto la media como la mediana de los precios y explica la diferencia entre ambas medidas. 2) Proporciona ejemplos de situaciones en las que la mediana podría ser preferible sobre la media."
   ]
  },
  {
   "cell_type": "code",
   "execution_count": 5,
   "id": "de0afe6d",
   "metadata": {},
   "outputs": [
    {
     "name": "stdout",
     "output_type": "stream",
     "text": [
      "La media de los precios es: 8.33\n",
      "La mediana de los precios es: 8.0\n"
     ]
    }
   ],
   "source": [
    "# Medidas centrales para la variable 'income'\n",
    "\n",
    "media_ingresos = df['price'].mean()\n",
    "print(f\"La media de los precios es: {np.round(media_ingresos, 2)}\")\n",
    "\n",
    "mediana_ingresos = df['price'].median()\n",
    "print(f\"La mediana de los precios es: {np.round(mediana_ingresos, 2)}\")"
   ]
  },
  {
   "cell_type": "markdown",
   "id": "0b574b5b",
   "metadata": {},
   "source": [
    "Interpretación\n",
    "1) Media y mediana parecen ser muy parecidos - lo que estaría sugiriendo que la distribución no presenta muchos valores atipicos, y/o que es una dsitribución simétrica\n",
    "\n",
    "Ejemplos en los que es prefereible utilizar la mediana\n",
    "1) valores atipicos\n",
    "2) distribución asimétrica"
   ]
  },
  {
   "cell_type": "markdown",
   "id": "4e271c95",
   "metadata": {},
   "source": [
    "# 2 Tabla de correlación\n",
    "Crea una tabla de correlación que muestre cómo se relacionan las variables price, retail_price, units_sold, rating_sold, y rating_count. \n",
    "Interpreta los resultados y discute si hay alguna correlación significativa entre estas variables."
   ]
  },
  {
   "cell_type": "code",
   "execution_count": 8,
   "id": "192be505",
   "metadata": {},
   "outputs": [
    {
     "data": {
      "application/vnd.microsoft.datawrangler.viewer.v0+json": {
       "columns": [
        {
         "name": "index",
         "rawType": "object",
         "type": "string"
        },
        {
         "name": "price",
         "rawType": "float64",
         "type": "float"
        },
        {
         "name": "retail_price",
         "rawType": "float64",
         "type": "float"
        },
        {
         "name": "units_sold",
         "rawType": "float64",
         "type": "float"
        },
        {
         "name": "rating_sold",
         "rawType": "float64",
         "type": "float"
        },
        {
         "name": "rating_count",
         "rawType": "float64",
         "type": "float"
        }
       ],
       "ref": "378dd4bb-ff4f-4c89-a27a-337333aebaf3",
       "rows": [
        [
         "price",
         "1.0",
         "0.304747604998554",
         "-0.024814737880183735",
         "0.05346852093615304",
         "-0.0019105048123415525"
        ],
        [
         "retail_price",
         "0.304747604998554",
         "1.0",
         "0.01263838522785898",
         "0.024106294001186752",
         "0.053871605292890014"
        ],
        [
         "units_sold",
         "-0.024814737880183735",
         "0.01263838522785898",
         "1.0",
         "0.03947824607891298",
         "0.8994636522147249"
        ],
        [
         "rating_sold",
         "0.05346852093615304",
         "0.024106294001186752",
         "0.03947824607891298",
         "1.0",
         "0.05411229308648032"
        ],
        [
         "rating_count",
         "-0.0019105048123415525",
         "0.053871605292890014",
         "0.8994636522147249",
         "0.05411229308648032",
         "1.0"
        ]
       ],
       "shape": {
        "columns": 5,
        "rows": 5
       }
      },
      "text/html": [
       "<div>\n",
       "<style scoped>\n",
       "    .dataframe tbody tr th:only-of-type {\n",
       "        vertical-align: middle;\n",
       "    }\n",
       "\n",
       "    .dataframe tbody tr th {\n",
       "        vertical-align: top;\n",
       "    }\n",
       "\n",
       "    .dataframe thead th {\n",
       "        text-align: right;\n",
       "    }\n",
       "</style>\n",
       "<table border=\"1\" class=\"dataframe\">\n",
       "  <thead>\n",
       "    <tr style=\"text-align: right;\">\n",
       "      <th></th>\n",
       "      <th>price</th>\n",
       "      <th>retail_price</th>\n",
       "      <th>units_sold</th>\n",
       "      <th>rating_sold</th>\n",
       "      <th>rating_count</th>\n",
       "    </tr>\n",
       "  </thead>\n",
       "  <tbody>\n",
       "    <tr>\n",
       "      <th>price</th>\n",
       "      <td>1.000000</td>\n",
       "      <td>0.304748</td>\n",
       "      <td>-0.024815</td>\n",
       "      <td>0.053469</td>\n",
       "      <td>-0.001911</td>\n",
       "    </tr>\n",
       "    <tr>\n",
       "      <th>retail_price</th>\n",
       "      <td>0.304748</td>\n",
       "      <td>1.000000</td>\n",
       "      <td>0.012638</td>\n",
       "      <td>0.024106</td>\n",
       "      <td>0.053872</td>\n",
       "    </tr>\n",
       "    <tr>\n",
       "      <th>units_sold</th>\n",
       "      <td>-0.024815</td>\n",
       "      <td>0.012638</td>\n",
       "      <td>1.000000</td>\n",
       "      <td>0.039478</td>\n",
       "      <td>0.899464</td>\n",
       "    </tr>\n",
       "    <tr>\n",
       "      <th>rating_sold</th>\n",
       "      <td>0.053469</td>\n",
       "      <td>0.024106</td>\n",
       "      <td>0.039478</td>\n",
       "      <td>1.000000</td>\n",
       "      <td>0.054112</td>\n",
       "    </tr>\n",
       "    <tr>\n",
       "      <th>rating_count</th>\n",
       "      <td>-0.001911</td>\n",
       "      <td>0.053872</td>\n",
       "      <td>0.899464</td>\n",
       "      <td>0.054112</td>\n",
       "      <td>1.000000</td>\n",
       "    </tr>\n",
       "  </tbody>\n",
       "</table>\n",
       "</div>"
      ],
      "text/plain": [
       "                 price  retail_price  units_sold  rating_sold  rating_count\n",
       "price         1.000000      0.304748   -0.024815     0.053469     -0.001911\n",
       "retail_price  0.304748      1.000000    0.012638     0.024106      0.053872\n",
       "units_sold   -0.024815      0.012638    1.000000     0.039478      0.899464\n",
       "rating_sold   0.053469      0.024106    0.039478     1.000000      0.054112\n",
       "rating_count -0.001911      0.053872    0.899464     0.054112      1.000000"
      ]
     },
     "execution_count": 8,
     "metadata": {},
     "output_type": "execute_result"
    }
   ],
   "source": [
    "# Matriz de correlación\n",
    "#columns = df[['price', 'retail_price', 'units_sold', 'rating_sold', 'rating_count']]\n",
    "correlation_matrix = df[['price', 'retail_price', 'units_sold', 'rating_sold', 'rating_count']].corr()\n",
    "correlation_matrix"
   ]
  },
  {
   "cell_type": "code",
   "execution_count": 9,
   "id": "42959776",
   "metadata": {},
   "outputs": [
    {
     "data": {
      "image/png": "[encoded data removed]",
      "text/plain": [
       "<Figure size 500x500 with 2 Axes>"
      ]
     },
     "metadata": {},
     "output_type": "display_data"
    }
   ],
   "source": [
    "# Visualiza la matriz de correlación utilizando seaborn\n",
    "plt.figure(figsize=(5, 5))\n",
    "\n",
    "sns.heatmap(correlation_matrix, annot=True, cmap='coolwarm', fmt='.2f', linewidths=.5)\n",
    "\n",
    "# Añade título\n",
    "plt.title('Matriz de Correlación entre Variables')\n",
    "\n",
    "# Muestra el gráfico\n",
    "\n",
    "plt.show()"
   ]
  },
  {
   "cell_type": "markdown",
   "id": "61cf822a",
   "metadata": {},
   "source": [
    "Observaciones:\n",
    "1) Las variables units_sold y rating_count presentan una correlación positiva y cercana a 1 (0.9) -> es decir que cuando una aumenta la otra aumenta también\n",
    "2) Existe una correlación positiva leve entre el price y retail_price, lo que nos indica que el precio está de alguna manera atado al precio de retail pero que esta correlación no es tan fuerte\n",
    "3) El resto de las variables no presentan una correlación alta, lo que indicaría que nos muestran distintos aspectos de los productos"
   ]
  },
  {
   "cell_type": "markdown",
   "id": "d400ea29",
   "metadata": {},
   "source": [
    "# 3 Tabla de contingencia\n",
    "Utiliza una tabla de contingencia para analizar la relación entre las variables categóricas uses_ad_boosts y badge_product_quality.\n",
    "¿Cómo afecta la calidad del producto al uso de anuncios promocionales? Proporciona interpretaciones basadas en la tabla de contingencia."
   ]
  },
  {
   "cell_type": "code",
   "execution_count": 10,
   "id": "8c6dfbdc",
   "metadata": {},
   "outputs": [
    {
     "data": {
      "application/vnd.microsoft.datawrangler.viewer.v0+json": {
       "columns": [
        {
         "name": "uses_ad_boosts",
         "rawType": "object",
         "type": "string"
        },
        {
         "name": "Buena",
         "rawType": "float64",
         "type": "float"
        },
        {
         "name": "Excelente",
         "rawType": "float64",
         "type": "float"
        }
       ],
       "ref": "a57561dd-1ef3-4d16-938f-005f2bf23b88",
       "rows": [
        [
         "No",
         "52.51112523839797",
         "4.195804195804196"
        ],
        [
         "Si",
         "40.05085823267641",
         "3.242212333121424"
        ]
       ],
       "shape": {
        "columns": 2,
        "rows": 2
       }
      },
      "text/html": [
       "<div>\n",
       "<style scoped>\n",
       "    .dataframe tbody tr th:only-of-type {\n",
       "        vertical-align: middle;\n",
       "    }\n",
       "\n",
       "    .dataframe tbody tr th {\n",
       "        vertical-align: top;\n",
       "    }\n",
       "\n",
       "    .dataframe thead th {\n",
       "        text-align: right;\n",
       "    }\n",
       "</style>\n",
       "<table border=\"1\" class=\"dataframe\">\n",
       "  <thead>\n",
       "    <tr style=\"text-align: right;\">\n",
       "      <th>badge_product_quality</th>\n",
       "      <th>Buena</th>\n",
       "      <th>Excelente</th>\n",
       "    </tr>\n",
       "    <tr>\n",
       "      <th>uses_ad_boosts</th>\n",
       "      <th></th>\n",
       "      <th></th>\n",
       "    </tr>\n",
       "  </thead>\n",
       "  <tbody>\n",
       "    <tr>\n",
       "      <th>No</th>\n",
       "      <td>52.511125</td>\n",
       "      <td>4.195804</td>\n",
       "    </tr>\n",
       "    <tr>\n",
       "      <th>Si</th>\n",
       "      <td>40.050858</td>\n",
       "      <td>3.242212</td>\n",
       "    </tr>\n",
       "  </tbody>\n",
       "</table>\n",
       "</div>"
      ],
      "text/plain": [
       "badge_product_quality      Buena  Excelente\n",
       "uses_ad_boosts                             \n",
       "No                     52.511125   4.195804\n",
       "Si                     40.050858   3.242212"
      ]
     },
     "execution_count": 10,
     "metadata": {},
     "output_type": "execute_result"
    }
   ],
   "source": [
    "# queremos analizar cómo se distribuye el nivel de educación de los clientes en función de su estado civil.\n",
    "# creamos  la tabla de contingencia usando el método crosstab de pandas\n",
    "tabla_contingencia = pd.crosstab(df['uses_ad_boosts'], df['badge_product_quality'], normalize=True) * 100\n",
    "\n",
    "# Interpretación: La tabla de contingencia muestra cuántos clientes pertenecen a cada combinación de nivel de educación y estado civil (nos mostrará el % si incluimos el parámetro \"normalize\", como hemos hecho en este ejemplo).\n",
    "tabla_contingencia"
   ]
  },
  {
   "cell_type": "code",
   "execution_count": null,
   "id": "c304cc11",
   "metadata": {},
   "outputs": [
    {
     "name": "stdout",
     "output_type": "stream",
     "text": [
      "1.3125\n",
      "1.3125\n"
     ]
    }
   ],
   "source": [
    "# Ratio de utlización de boosts en categorías de calidad\n",
    "print(52.5/40)\n",
    "print(4.2/3.2)"
   ]
  },
  {
   "cell_type": "markdown",
   "id": "4603dc39",
   "metadata": {},
   "source": [
    "Observaciones:\n",
    "1) La mayoría de los productosno utiliza los boosts\n",
    "2) La calidad buena es la categoría más presente con el 93%\n",
    "3) Los boosts se utilizan mayormente en la categoría Buena\n",
    "4) La utilización de boosts no parece estar correlacionada con la calidad del producto"
   ]
  },
  {
   "cell_type": "markdown",
   "id": "3fc6386f",
   "metadata": {},
   "source": [
    "# 4 Tabla de contingencia 2\n",
    "Crea una tabla de contingencia que examine la relación entre las variables categóricas badge_local_product y badge_fast_shipping. ¿Hay alguna tendencia en la que los productos locales estén más asociados con envíos rápidos? Explícalo."
   ]
  },
  {
   "cell_type": "code",
   "execution_count": 12,
   "id": "0373e042",
   "metadata": {},
   "outputs": [
    {
     "data": {
      "application/vnd.microsoft.datawrangler.viewer.v0+json": {
       "columns": [
        {
         "name": "badge_local_product",
         "rawType": "object",
         "type": "string"
        },
        {
         "name": "No",
         "rawType": "float64",
         "type": "float"
        },
        {
         "name": "Si",
         "rawType": "float64",
         "type": "float"
        }
       ],
       "ref": "71191739-295c-40a0-96d7-43533bc2194f",
       "rows": [
        [
         "No",
         "97.45708836617928",
         "0.6993006993006993"
        ],
        [
         "Si",
         "1.2714558169103625",
         "0.5721551176096631"
        ]
       ],
       "shape": {
        "columns": 2,
        "rows": 2
       }
      },
      "text/html": [
       "<div>\n",
       "<style scoped>\n",
       "    .dataframe tbody tr th:only-of-type {\n",
       "        vertical-align: middle;\n",
       "    }\n",
       "\n",
       "    .dataframe tbody tr th {\n",
       "        vertical-align: top;\n",
       "    }\n",
       "\n",
       "    .dataframe thead th {\n",
       "        text-align: right;\n",
       "    }\n",
       "</style>\n",
       "<table border=\"1\" class=\"dataframe\">\n",
       "  <thead>\n",
       "    <tr style=\"text-align: right;\">\n",
       "      <th>badge_fast_shipping</th>\n",
       "      <th>No</th>\n",
       "      <th>Si</th>\n",
       "    </tr>\n",
       "    <tr>\n",
       "      <th>badge_local_product</th>\n",
       "      <th></th>\n",
       "      <th></th>\n",
       "    </tr>\n",
       "  </thead>\n",
       "  <tbody>\n",
       "    <tr>\n",
       "      <th>No</th>\n",
       "      <td>97.457088</td>\n",
       "      <td>0.699301</td>\n",
       "    </tr>\n",
       "    <tr>\n",
       "      <th>Si</th>\n",
       "      <td>1.271456</td>\n",
       "      <td>0.572155</td>\n",
       "    </tr>\n",
       "  </tbody>\n",
       "</table>\n",
       "</div>"
      ],
      "text/plain": [
       "badge_fast_shipping         No        Si\n",
       "badge_local_product                     \n",
       "No                   97.457088  0.699301\n",
       "Si                    1.271456  0.572155"
      ]
     },
     "execution_count": 12,
     "metadata": {},
     "output_type": "execute_result"
    }
   ],
   "source": [
    "# queremos analizar cómo se distribuye las categorías de producto y el envio.\n",
    "# creamos  la tabla de contingencia usando el método crosstab de pandas\n",
    "tabla_contingencia = pd.crosstab(df['badge_local_product'], df['badge_fast_shipping'], normalize=True) * 100\n",
    "\n",
    "# Interpretación: La tabla de contingencia muestra cuántos clientes pertenecen a cada combinación de nivel de educación y estado civil (nos mostrará el % si incluimos el parámetro \"normalize\", como hemos hecho en este ejemplo).\n",
    "tabla_contingencia"
   ]
  },
  {
   "cell_type": "code",
   "execution_count": 17,
   "id": "c8cd4992",
   "metadata": {},
   "outputs": [
    {
     "name": "stdout",
     "output_type": "stream",
     "text": [
      "0.7128309572301426\n",
      "31.57894736842105\n"
     ]
    }
   ],
   "source": [
    "# Porcentahe de envíos rápidos por categoría\n",
    "print(0.7/(97.5+0.7)*100)\n",
    "print(0.6/(1.3+0.6)*100)"
   ]
  },
  {
   "cell_type": "markdown",
   "id": "635b0ed6",
   "metadata": {},
   "source": [
    "Observaciones:\n",
    "1) La mayoría de los productos no son de origen local (97%)\n",
    "2) Si el producto no es local, el envío rápido no parece ser una opción atractiva (1%)\n",
    "3) Si el producto es local, si bien el envío normal es el preferido, la opción de envío rápido parece ser más atractiva (32%)"
   ]
  },
  {
   "cell_type": "markdown",
   "id": "e1fdfdff",
   "metadata": {},
   "source": [
    "# 5 Media y mediana\n",
    "Calcula la media y la mediana de la variable mean_product_prices. \n",
    "¿Cómo se comparan estas medidas? \n",
    "¿Qué puedes inferir sobre la distribución de los precios promedio de los productos?"
   ]
  },
  {
   "cell_type": "code",
   "execution_count": null,
   "id": "8b71a158",
   "metadata": {},
   "outputs": [
    {
     "name": "stdout",
     "output_type": "stream",
     "text": [
      "La media de los precios promedio del producto es: 8.33\n",
      "La mediana de los precios promedio del producto es: 8.0\n"
     ]
    }
   ],
   "source": [
    "# Medidas centrales para la variable 'income'\n",
    "\n",
    "media_avg_price = df['mean_product_prices'].mean()\n",
    "print(f\"La media de los precios promedio del producto es: {np.round(media_avg_price, 2)}\")\n",
    "\n",
    "mediana_avg_price = df['mean_product_prices'].median()\n",
    "print(f\"La mediana de los precios promedio del producto es: {np.round(mediana_avg_price, 2)}\")"
   ]
  },
  {
   "cell_type": "code",
   "execution_count": 19,
   "id": "85195817",
   "metadata": {},
   "outputs": [
    {
     "data": {
      "application/vnd.microsoft.datawrangler.viewer.v0+json": {
       "columns": [
        {
         "name": "index",
         "rawType": "int64",
         "type": "integer"
        },
        {
         "name": "price",
         "rawType": "float64",
         "type": "float"
        },
        {
         "name": "mean_product_prices",
         "rawType": "float64",
         "type": "float"
        }
       ],
       "ref": "02533587-4d9e-4384-9622-2c2369a3b371",
       "rows": [
        [
         "0",
         "16.0",
         "16.0"
        ],
        [
         "1",
         "8.0",
         "5.68"
        ],
        [
         "2",
         "4.9",
         "5.68"
        ],
        [
         "3",
         "4.93",
         "5.68"
        ],
        [
         "4",
         "5.65",
         "5.68"
        ],
        [
         "5",
         "5.65",
         "5.68"
        ],
        [
         "6",
         "4.93",
         "5.68"
        ],
        [
         "7",
         "8.0",
         "6.0"
        ],
        [
         "8",
         "5.0",
         "6.0"
        ],
        [
         "9",
         "5.0",
         "6.0"
        ],
        [
         "10",
         "8.0",
         "8.75"
        ],
        [
         "11",
         "8.0",
         "8.75"
        ],
        [
         "12",
         "11.0",
         "8.75"
        ],
        [
         "13",
         "8.0",
         "8.75"
        ],
        [
         "14",
         "2.72",
         "6.15"
        ],
        [
         "15",
         "2.72",
         "6.15"
        ],
        [
         "16",
         "13.0",
         "6.15"
        ],
        [
         "17",
         "3.92",
         "3.92"
        ],
        [
         "18",
         "7.0",
         "7.0"
        ],
        [
         "19",
         "12.0",
         "12.0"
        ]
       ],
       "shape": {
        "columns": 2,
        "rows": 20
       }
      },
      "text/html": [
       "<div>\n",
       "<style scoped>\n",
       "    .dataframe tbody tr th:only-of-type {\n",
       "        vertical-align: middle;\n",
       "    }\n",
       "\n",
       "    .dataframe tbody tr th {\n",
       "        vertical-align: top;\n",
       "    }\n",
       "\n",
       "    .dataframe thead th {\n",
       "        text-align: right;\n",
       "    }\n",
       "</style>\n",
       "<table border=\"1\" class=\"dataframe\">\n",
       "  <thead>\n",
       "    <tr style=\"text-align: right;\">\n",
       "      <th></th>\n",
       "      <th>price</th>\n",
       "      <th>mean_product_prices</th>\n",
       "    </tr>\n",
       "  </thead>\n",
       "  <tbody>\n",
       "    <tr>\n",
       "      <th>0</th>\n",
       "      <td>16.00</td>\n",
       "      <td>16.00</td>\n",
       "    </tr>\n",
       "    <tr>\n",
       "      <th>1</th>\n",
       "      <td>8.00</td>\n",
       "      <td>5.68</td>\n",
       "    </tr>\n",
       "    <tr>\n",
       "      <th>2</th>\n",
       "      <td>4.90</td>\n",
       "      <td>5.68</td>\n",
       "    </tr>\n",
       "    <tr>\n",
       "      <th>3</th>\n",
       "      <td>4.93</td>\n",
       "      <td>5.68</td>\n",
       "    </tr>\n",
       "    <tr>\n",
       "      <th>4</th>\n",
       "      <td>5.65</td>\n",
       "      <td>5.68</td>\n",
       "    </tr>\n",
       "    <tr>\n",
       "      <th>5</th>\n",
       "      <td>5.65</td>\n",
       "      <td>5.68</td>\n",
       "    </tr>\n",
       "    <tr>\n",
       "      <th>6</th>\n",
       "      <td>4.93</td>\n",
       "      <td>5.68</td>\n",
       "    </tr>\n",
       "    <tr>\n",
       "      <th>7</th>\n",
       "      <td>8.00</td>\n",
       "      <td>6.00</td>\n",
       "    </tr>\n",
       "    <tr>\n",
       "      <th>8</th>\n",
       "      <td>5.00</td>\n",
       "      <td>6.00</td>\n",
       "    </tr>\n",
       "    <tr>\n",
       "      <th>9</th>\n",
       "      <td>5.00</td>\n",
       "      <td>6.00</td>\n",
       "    </tr>\n",
       "    <tr>\n",
       "      <th>10</th>\n",
       "      <td>8.00</td>\n",
       "      <td>8.75</td>\n",
       "    </tr>\n",
       "    <tr>\n",
       "      <th>11</th>\n",
       "      <td>8.00</td>\n",
       "      <td>8.75</td>\n",
       "    </tr>\n",
       "    <tr>\n",
       "      <th>12</th>\n",
       "      <td>11.00</td>\n",
       "      <td>8.75</td>\n",
       "    </tr>\n",
       "    <tr>\n",
       "      <th>13</th>\n",
       "      <td>8.00</td>\n",
       "      <td>8.75</td>\n",
       "    </tr>\n",
       "    <tr>\n",
       "      <th>14</th>\n",
       "      <td>2.72</td>\n",
       "      <td>6.15</td>\n",
       "    </tr>\n",
       "    <tr>\n",
       "      <th>15</th>\n",
       "      <td>2.72</td>\n",
       "      <td>6.15</td>\n",
       "    </tr>\n",
       "    <tr>\n",
       "      <th>16</th>\n",
       "      <td>13.00</td>\n",
       "      <td>6.15</td>\n",
       "    </tr>\n",
       "    <tr>\n",
       "      <th>17</th>\n",
       "      <td>3.92</td>\n",
       "      <td>3.92</td>\n",
       "    </tr>\n",
       "    <tr>\n",
       "      <th>18</th>\n",
       "      <td>7.00</td>\n",
       "      <td>7.00</td>\n",
       "    </tr>\n",
       "    <tr>\n",
       "      <th>19</th>\n",
       "      <td>12.00</td>\n",
       "      <td>12.00</td>\n",
       "    </tr>\n",
       "  </tbody>\n",
       "</table>\n",
       "</div>"
      ],
      "text/plain": [
       "    price  mean_product_prices\n",
       "0   16.00                16.00\n",
       "1    8.00                 5.68\n",
       "2    4.90                 5.68\n",
       "3    4.93                 5.68\n",
       "4    5.65                 5.68\n",
       "5    5.65                 5.68\n",
       "6    4.93                 5.68\n",
       "7    8.00                 6.00\n",
       "8    5.00                 6.00\n",
       "9    5.00                 6.00\n",
       "10   8.00                 8.75\n",
       "11   8.00                 8.75\n",
       "12  11.00                 8.75\n",
       "13   8.00                 8.75\n",
       "14   2.72                 6.15\n",
       "15   2.72                 6.15\n",
       "16  13.00                 6.15\n",
       "17   3.92                 3.92\n",
       "18   7.00                 7.00\n",
       "19  12.00                12.00"
      ]
     },
     "execution_count": 19,
     "metadata": {},
     "output_type": "execute_result"
    }
   ],
   "source": [
    "df[['price', 'mean_product_prices']].head(20)"
   ]
  },
  {
   "cell_type": "markdown",
   "id": "371236dd",
   "metadata": {},
   "source": [
    "Observaciones:\n",
    "1) En base a las medidas centrales de media y mediana - podemos concluir que la media está por encima de la mediana_avg_price - pero muy poco hay que mirar el histograma o la función de densidad\n",
    "2) Las medidas centrales para esta variable son iguales que para la variable precios porque representan la misa medición agregada\n",
    "3) Aqui podrían existir valores atípicos (outliers) con recios mayores, pero que no tienen tanto peso\n",
    "4) Otra posibilidad es que la distribución no sea simétrica\n",
    "Pero estas últimas dos conclusiones dependen también del recorrido de la variable\n",
    "\n",
    "-- conclusión: nos quedariamos con la mediana pero los cálculos quizás no sean tan diferentes con cualquiera de las dos\n"
   ]
  },
  {
   "cell_type": "markdown",
   "id": "e4f3f3ff",
   "metadata": {},
   "source": [
    "# 6 Correlaciones\n",
    "Realiza un análisis de correlación entre total_units_sold y mean_product_ratings_count. \n",
    "¿Existe una relación entre la cantidad total de unidades vendidas y la calificación promedio de los productos? \n",
    "Explica los resultados."
   ]
  },
  {
   "cell_type": "code",
   "execution_count": 21,
   "id": "ec8b282f",
   "metadata": {},
   "outputs": [
    {
     "data": {
      "application/vnd.microsoft.datawrangler.viewer.v0+json": {
       "columns": [
        {
         "name": "index",
         "rawType": "object",
         "type": "string"
        },
        {
         "name": "total_units_sold",
         "rawType": "float64",
         "type": "float"
        },
        {
         "name": "mean_product_ratings_count",
         "rawType": "float64",
         "type": "float"
        }
       ],
       "ref": "757b59fa-d513-4625-a0f4-8daa19002153",
       "rows": [
        [
         "total_units_sold",
         "1.0",
         "0.6366498641404202"
        ],
        [
         "mean_product_ratings_count",
         "0.6366498641404202",
         "1.0"
        ]
       ],
       "shape": {
        "columns": 2,
        "rows": 2
       }
      },
      "text/html": [
       "<div>\n",
       "<style scoped>\n",
       "    .dataframe tbody tr th:only-of-type {\n",
       "        vertical-align: middle;\n",
       "    }\n",
       "\n",
       "    .dataframe tbody tr th {\n",
       "        vertical-align: top;\n",
       "    }\n",
       "\n",
       "    .dataframe thead th {\n",
       "        text-align: right;\n",
       "    }\n",
       "</style>\n",
       "<table border=\"1\" class=\"dataframe\">\n",
       "  <thead>\n",
       "    <tr style=\"text-align: right;\">\n",
       "      <th></th>\n",
       "      <th>total_units_sold</th>\n",
       "      <th>mean_product_ratings_count</th>\n",
       "    </tr>\n",
       "  </thead>\n",
       "  <tbody>\n",
       "    <tr>\n",
       "      <th>total_units_sold</th>\n",
       "      <td>1.00000</td>\n",
       "      <td>0.63665</td>\n",
       "    </tr>\n",
       "    <tr>\n",
       "      <th>mean_product_ratings_count</th>\n",
       "      <td>0.63665</td>\n",
       "      <td>1.00000</td>\n",
       "    </tr>\n",
       "  </tbody>\n",
       "</table>\n",
       "</div>"
      ],
      "text/plain": [
       "                            total_units_sold  mean_product_ratings_count\n",
       "total_units_sold                     1.00000                     0.63665\n",
       "mean_product_ratings_count           0.63665                     1.00000"
      ]
     },
     "execution_count": 21,
     "metadata": {},
     "output_type": "execute_result"
    }
   ],
   "source": [
    "# Matriz de correlación\n",
    "#columns = df[['price', 'retail_price', 'units_sold', 'rating_sold', 'rating_count']]\n",
    "correlation_matrix = df[['total_units_sold' ,'mean_product_ratings_count']].corr()\n",
    "correlation_matrix"
   ]
  },
  {
   "cell_type": "markdown",
   "id": "f5dace15",
   "metadata": {},
   "source": [
    "Observaciones:\n",
    "1) Las dos variables presentan una correlación moderada, en el tramo superior.\n",
    "2) Esta correlación es positiva, por lo que cuando una de las variables"
   ]
  }
 ],
 "metadata": {
  "kernelspec": {
   "display_name": "base",
   "language": "python",
   "name": "python3"
  },
  "language_info": {
   "codemirror_mode": {
    "name": "ipython",
    "version": 3
   },
   "file_extension": ".py",
   "mimetype": "text/x-python",
   "name": "python",
   "nbconvert_exporter": "python",
   "pygments_lexer": "ipython3",
   "version": "3.12.7"
  }
 },
 "nbformat": 4,
 "nbformat_minor": 5
}
