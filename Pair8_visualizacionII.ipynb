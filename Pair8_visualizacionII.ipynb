{
 "cells": [
  {
   "cell_type": "code",
   "execution_count": 1,
   "id": "412beb69",
   "metadata": {},
   "outputs": [],
   "source": [
    "# Librerías para datos\n",
    "import pandas as pd\n",
    "import numpy as np\n",
    "\n",
    "# Librerías de imputación\n",
    "from sklearn.impute import SimpleImputer\n",
    "from sklearn.experimental import enable_iterative_imputer  # Habilita IterativeImputer\n",
    "from sklearn.impute import IterativeImputer\n",
    "from sklearn.impute import KNNImputer\n",
    "\n",
    "# Librerías de visualización\n",
    "import seaborn as sns\n",
    "import matplotlib.pyplot as plt"
   ]
  },
  {
   "cell_type": "code",
   "execution_count": 2,
   "id": "1932e378",
   "metadata": {},
   "outputs": [],
   "source": [
    "# Configuración\n",
    "# -----------------------------------------------------------------------\n",
    "pd.set_option('display.max_columns', None) # para poder visualizar todas las columnas de los DataFrames"
   ]
  },
  {
   "cell_type": "code",
   "execution_count": 7,
   "id": "b8152017",
   "metadata": {},
   "outputs": [
    {
     "data": {
      "text/html": [
       "<div>\n",
       "<style scoped>\n",
       "    .dataframe tbody tr th:only-of-type {\n",
       "        vertical-align: middle;\n",
       "    }\n",
       "\n",
       "    .dataframe tbody tr th {\n",
       "        vertical-align: top;\n",
       "    }\n",
       "\n",
       "    .dataframe thead th {\n",
       "        text-align: right;\n",
       "    }\n",
       "</style>\n",
       "<table border=\"1\" class=\"dataframe\">\n",
       "  <thead>\n",
       "    <tr style=\"text-align: right;\">\n",
       "      <th></th>\n",
       "      <th>Unnamed: 0</th>\n",
       "      <th>title</th>\n",
       "      <th>price</th>\n",
       "      <th>retail_price</th>\n",
       "      <th>units_sold</th>\n",
       "      <th>uses_ad_boosts</th>\n",
       "      <th>rating_sold</th>\n",
       "      <th>rating_count</th>\n",
       "      <th>rating_five_count</th>\n",
       "      <th>rating_four_count</th>\n",
       "      <th>rating_three_count</th>\n",
       "      <th>rating_two_count</th>\n",
       "      <th>rating_one_count</th>\n",
       "      <th>badge_local_product</th>\n",
       "      <th>badge_product_quality</th>\n",
       "      <th>badge_fast_shipping</th>\n",
       "      <th>tags</th>\n",
       "      <th>product_color</th>\n",
       "      <th>product_variation_size_id</th>\n",
       "      <th>shipping_option_name</th>\n",
       "      <th>shipping_option_price</th>\n",
       "      <th>shipping_is_express</th>\n",
       "      <th>countries_shipped_to</th>\n",
       "      <th>inventory_total</th>\n",
       "      <th>origin_country</th>\n",
       "      <th>merchant_name</th>\n",
       "      <th>merchant_info_subtitle</th>\n",
       "      <th>merchant_rating_count</th>\n",
       "      <th>merchant_rating</th>\n",
       "      <th>merchant_id</th>\n",
       "      <th>product_url</th>\n",
       "      <th>product_id</th>\n",
       "      <th>listed_products</th>\n",
       "      <th>total_units_sold</th>\n",
       "      <th>mean_units_sold_per_product</th>\n",
       "      <th>rating_employee</th>\n",
       "      <th>merchant_ratings_count</th>\n",
       "      <th>mean_product_prices</th>\n",
       "      <th>mean_retail_prices</th>\n",
       "      <th>average_discount</th>\n",
       "      <th>mean_discount</th>\n",
       "      <th>mean_product_ratings_count</th>\n",
       "    </tr>\n",
       "  </thead>\n",
       "  <tbody>\n",
       "    <tr>\n",
       "      <th>515</th>\n",
       "      <td>515</td>\n",
       "      <td>Fashion Summer Lady Skull Print Beauty Vest Ha...</td>\n",
       "      <td>9.00</td>\n",
       "      <td>48</td>\n",
       "      <td>1000</td>\n",
       "      <td>1</td>\n",
       "      <td>4.01</td>\n",
       "      <td>135</td>\n",
       "      <td>69.0</td>\n",
       "      <td>25.0</td>\n",
       "      <td>23.0</td>\n",
       "      <td>10.0</td>\n",
       "      <td>8.0</td>\n",
       "      <td>0</td>\n",
       "      <td>0</td>\n",
       "      <td>0</td>\n",
       "      <td>Summer,Vest,Fashion,Tank,camisole,Halter,Beaut...</td>\n",
       "      <td>purple</td>\n",
       "      <td>M</td>\n",
       "      <td>Livraison standard</td>\n",
       "      <td>3</td>\n",
       "      <td>0</td>\n",
       "      <td>25</td>\n",
       "      <td>50</td>\n",
       "      <td>CN</td>\n",
       "      <td>oiug56465</td>\n",
       "      <td>78 % avis positifs</td>\n",
       "      <td>6632</td>\n",
       "      <td>3.748794</td>\n",
       "      <td>5b6ec2f2838d931d2fbf7a28</td>\n",
       "      <td>https://www.wish.com/c/5e180dab29a9690a38a1748f</td>\n",
       "      <td>5e180dab29a9690a38a1748f</td>\n",
       "      <td>1</td>\n",
       "      <td>1000</td>\n",
       "      <td>1000.0</td>\n",
       "      <td>3.749</td>\n",
       "      <td>6632.0</td>\n",
       "      <td>9.00</td>\n",
       "      <td>48.0</td>\n",
       "      <td>82.0</td>\n",
       "      <td>82.0</td>\n",
       "      <td>135.0</td>\n",
       "    </tr>\n",
       "    <tr>\n",
       "      <th>1238</th>\n",
       "      <td>1238</td>\n",
       "      <td>Stranger Things saison 3 T-shirt femmes à l'en...</td>\n",
       "      <td>3.73</td>\n",
       "      <td>17</td>\n",
       "      <td>100</td>\n",
       "      <td>1</td>\n",
       "      <td>4.37</td>\n",
       "      <td>27</td>\n",
       "      <td>17.0</td>\n",
       "      <td>7.0</td>\n",
       "      <td>1.0</td>\n",
       "      <td>0.0</td>\n",
       "      <td>2.0</td>\n",
       "      <td>0</td>\n",
       "      <td>1</td>\n",
       "      <td>0</td>\n",
       "      <td>blouse,Summer,Shorts,Grunge,letter print,Sleev...</td>\n",
       "      <td>white</td>\n",
       "      <td>25-S</td>\n",
       "      <td>Livraison standard</td>\n",
       "      <td>1</td>\n",
       "      <td>0</td>\n",
       "      <td>48</td>\n",
       "      <td>50</td>\n",
       "      <td>CN</td>\n",
       "      <td>unlimitedretaliation</td>\n",
       "      <td>94 % avis positifs</td>\n",
       "      <td>343</td>\n",
       "      <td>4.521866</td>\n",
       "      <td>5b07dc937752c81ecb291b66</td>\n",
       "      <td>https://www.wish.com/c/5e8c600e60f3076f85bf2d73</td>\n",
       "      <td>5e8c600e60f3076f85bf2d73</td>\n",
       "      <td>1</td>\n",
       "      <td>100</td>\n",
       "      <td>100.0</td>\n",
       "      <td>4.522</td>\n",
       "      <td>343.0</td>\n",
       "      <td>3.73</td>\n",
       "      <td>17.0</td>\n",
       "      <td>79.0</td>\n",
       "      <td>79.0</td>\n",
       "      <td>27.0</td>\n",
       "    </tr>\n",
       "  </tbody>\n",
       "</table>\n",
       "</div>"
      ],
      "text/plain": [
       "      Unnamed: 0                                              title  price  \\\n",
       "515          515  Fashion Summer Lady Skull Print Beauty Vest Ha...   9.00   \n",
       "1238        1238  Stranger Things saison 3 T-shirt femmes à l'en...   3.73   \n",
       "\n",
       "      retail_price  units_sold  uses_ad_boosts  rating_sold  rating_count  \\\n",
       "515             48        1000               1         4.01           135   \n",
       "1238            17         100               1         4.37            27   \n",
       "\n",
       "      rating_five_count  rating_four_count  rating_three_count  \\\n",
       "515                69.0               25.0                23.0   \n",
       "1238               17.0                7.0                 1.0   \n",
       "\n",
       "      rating_two_count  rating_one_count  badge_local_product  \\\n",
       "515               10.0               8.0                    0   \n",
       "1238               0.0               2.0                    0   \n",
       "\n",
       "      badge_product_quality  badge_fast_shipping  \\\n",
       "515                       0                    0   \n",
       "1238                      1                    0   \n",
       "\n",
       "                                                   tags product_color  \\\n",
       "515   Summer,Vest,Fashion,Tank,camisole,Halter,Beaut...        purple   \n",
       "1238  blouse,Summer,Shorts,Grunge,letter print,Sleev...         white   \n",
       "\n",
       "     product_variation_size_id shipping_option_name  shipping_option_price  \\\n",
       "515                          M   Livraison standard                      3   \n",
       "1238                      25-S   Livraison standard                      1   \n",
       "\n",
       "      shipping_is_express  countries_shipped_to  inventory_total  \\\n",
       "515                     0                    25               50   \n",
       "1238                    0                    48               50   \n",
       "\n",
       "     origin_country         merchant_name merchant_info_subtitle  \\\n",
       "515              CN             oiug56465    78 % avis positifs    \n",
       "1238             CN  unlimitedretaliation    94 % avis positifs    \n",
       "\n",
       "      merchant_rating_count  merchant_rating               merchant_id  \\\n",
       "515                    6632         3.748794  5b6ec2f2838d931d2fbf7a28   \n",
       "1238                    343         4.521866  5b07dc937752c81ecb291b66   \n",
       "\n",
       "                                          product_url  \\\n",
       "515   https://www.wish.com/c/5e180dab29a9690a38a1748f   \n",
       "1238  https://www.wish.com/c/5e8c600e60f3076f85bf2d73   \n",
       "\n",
       "                    product_id  listed_products  total_units_sold  \\\n",
       "515   5e180dab29a9690a38a1748f                1              1000   \n",
       "1238  5e8c600e60f3076f85bf2d73                1               100   \n",
       "\n",
       "      mean_units_sold_per_product  rating_employee  merchant_ratings_count  \\\n",
       "515                        1000.0            3.749                  6632.0   \n",
       "1238                        100.0            4.522                   343.0   \n",
       "\n",
       "      mean_product_prices  mean_retail_prices  average_discount  \\\n",
       "515                  9.00                48.0              82.0   \n",
       "1238                 3.73                17.0              79.0   \n",
       "\n",
       "      mean_discount  mean_product_ratings_count  \n",
       "515            82.0                       135.0  \n",
       "1238           79.0                        27.0  "
      ]
     },
     "execution_count": 7,
     "metadata": {},
     "output_type": "execute_result"
    }
   ],
   "source": [
    "df_pair8= pd.read_csv('merchant_fill.csv')\n",
    "df_pair8.sample(2)"
   ]
  },
  {
   "cell_type": "code",
   "execution_count": 4,
   "id": "6a16ed11",
   "metadata": {},
   "outputs": [
    {
     "data": {
      "text/plain": [
       "Index(['Unnamed: 0', 'title', 'price', 'retail_price', 'units_sold',\n",
       "       'uses_ad_boosts', 'rating_sold', 'rating_count', 'rating_five_count',\n",
       "       'rating_four_count', 'rating_three_count', 'rating_two_count',\n",
       "       'rating_one_count', 'badge_local_product', 'badge_product_quality',\n",
       "       'badge_fast_shipping', 'tags', 'product_color',\n",
       "       'product_variation_size_id', 'shipping_option_name',\n",
       "       'shipping_option_price', 'shipping_is_express', 'countries_shipped_to',\n",
       "       'inventory_total', 'origin_country', 'merchant_name',\n",
       "       'merchant_info_subtitle', 'merchant_rating_count', 'merchant_rating',\n",
       "       'merchant_id', 'product_url', 'product_id', 'listed_products',\n",
       "       'total_units_sold', 'mean_units_sold_per_product', 'rating_employee',\n",
       "       'merchant_ratings_count', 'mean_product_prices', 'mean_retail_prices',\n",
       "       'average_discount', 'mean_discount', 'mean_product_ratings_count'],\n",
       "      dtype='object')"
      ]
     },
     "execution_count": 4,
     "metadata": {},
     "output_type": "execute_result"
    }
   ],
   "source": [
    "df_pair8.columns"
   ]
  },
  {
   "cell_type": "markdown",
   "id": "9ab9674f",
   "metadata": {},
   "source": [
    "# 1 ¿Qué porcentaje de productos tiene el distintivo \"Producto local\"?"
   ]
  },
  {
   "cell_type": "code",
   "execution_count": 39,
   "id": "5625b316",
   "metadata": {},
   "outputs": [
    {
     "data": {
      "text/plain": [
       "Text(0.5, 82.45136681500321, '0 = Sí (tiene distintivo)\\n1 = No (no tiene distintivo)')"
      ]
     },
     "execution_count": 39,
     "metadata": {},
     "output_type": "execute_result"
    },
    {
     "data": {
      "image/png": "[encoded data removed]",
      "text/plain": [
       "<Figure size 640x480 with 1 Axes>"
      ]
     },
     "metadata": {},
     "output_type": "display_data"
    }
   ],
   "source": [
    "sns.countplot(x = \"badge_local_product\", \n",
    "              data = df_pair8,\n",
    "              color = \"lightblue\",stat= 'percent') # con el stat añadimos en el eje y los % en lugar de la cantidad\n",
    "\n",
    "# cambiamos el nombre de los ejes usando los métodos 'plt.ylabel()' y 'plt.xlabel()' ya que estamos creando solo una gráfica\n",
    "plt.xlabel(\"Distintivo Producto Local\")\n",
    "plt.ylabel(\"Porcentaje Productos\")\n",
    "plt.text(x=0.5, y=plt.ylim()[1]*0.8,  # posición: centrado en x, alto en y\n",
    "         s=\"0 = Sí (tiene distintivo)\\n1 = No (no tiene distintivo)\",  # texto\n",
    "         bbox=dict(facecolor=\"white\", edgecolor=\"lightblue\", boxstyle=\"square,pad=0.5\"),  # estilo de caja\n",
    "         ha=\"left\")"
   ]
  },
  {
   "cell_type": "code",
   "execution_count": 15,
   "id": "7ca91bb0",
   "metadata": {},
   "outputs": [
    {
     "data": {
      "text/plain": [
       "array([0, 1])"
      ]
     },
     "execution_count": 15,
     "metadata": {},
     "output_type": "execute_result"
    }
   ],
   "source": [
    "df_pair8['badge_local_product'].unique()"
   ]
  },
  {
   "cell_type": "code",
   "execution_count": 42,
   "id": "40d596d0",
   "metadata": {},
   "outputs": [
    {
     "name": "stdout",
     "output_type": "stream",
     "text": [
      "0.9815638906547998\n"
     ]
    },
    {
     "data": {
      "text/html": [
       "<div>\n",
       "<style scoped>\n",
       "    .dataframe tbody tr th:only-of-type {\n",
       "        vertical-align: middle;\n",
       "    }\n",
       "\n",
       "    .dataframe tbody tr th {\n",
       "        vertical-align: top;\n",
       "    }\n",
       "\n",
       "    .dataframe thead th {\n",
       "        text-align: right;\n",
       "    }\n",
       "</style>\n",
       "<table border=\"1\" class=\"dataframe\">\n",
       "  <thead>\n",
       "    <tr style=\"text-align: right;\">\n",
       "      <th></th>\n",
       "      <th>badge_local_product</th>\n",
       "      <th>product_id</th>\n",
       "    </tr>\n",
       "  </thead>\n",
       "  <tbody>\n",
       "    <tr>\n",
       "      <th>0</th>\n",
       "      <td>0</td>\n",
       "      <td>1544</td>\n",
       "    </tr>\n",
       "    <tr>\n",
       "      <th>1</th>\n",
       "      <td>1</td>\n",
       "      <td>29</td>\n",
       "    </tr>\n",
       "  </tbody>\n",
       "</table>\n",
       "</div>"
      ],
      "text/plain": [
       "   badge_local_product  product_id\n",
       "0                    0        1544\n",
       "1                    1          29"
      ]
     },
     "execution_count": 42,
     "metadata": {},
     "output_type": "execute_result"
    }
   ],
   "source": [
    "df_distivo= df_pair8.groupby('badge_local_product')[\"product_id\"].count().reset_index()\n",
    "print(1544/(1544+29))\n",
    "df_distivo"
   ]
  },
  {
   "cell_type": "markdown",
   "id": "f9921861",
   "metadata": {},
   "source": [
    "# Interpretación:\n",
    "- Podemos observar que existe un mayor porcentaje de productos que si tienen distintivo local, 98% frente a un minimo porcentaje (2%) de no distintivo. "
   ]
  },
  {
   "cell_type": "markdown",
   "id": "afedf6de",
   "metadata": {},
   "source": [
    "# 2 ¿Qué porcentaje de productos tiene el distintivo \"Buena calidad del producto\"."
   ]
  },
  {
   "cell_type": "code",
   "execution_count": 46,
   "id": "8089e38b",
   "metadata": {},
   "outputs": [
    {
     "data": {
      "text/plain": [
       "Text(0.5, 77.7520661157025, '0 = Buena \\n1 = Excelente')"
      ]
     },
     "execution_count": 46,
     "metadata": {},
     "output_type": "execute_result"
    },
    {
     "data": {
      "image/png": "[encoded data removed]",
      "text/plain": [
       "<Figure size 640x480 with 1 Axes>"
      ]
     },
     "metadata": {},
     "output_type": "display_data"
    }
   ],
   "source": [
    "sns.countplot(x = \"badge_product_quality\", \n",
    "              data = df_pair8,\n",
    "              color = \"lightblue\",stat= 'percent') # con el stat añadimos en el eje y los % en lugar de la cantidad\n",
    "\n",
    "# cambiamos el nombre de los ejes usando los métodos 'plt.ylabel()' y 'plt.xlabel()' ya que estamos creando solo una gráfica\n",
    "plt.xlabel(\"Distintivo Calidad\")\n",
    "plt.ylabel(\"Porcentaje Productos\")\n",
    "plt.text(x=0.5, y=plt.ylim()[1]*0.8,  # posición: centrado en x, alto en y\n",
    "         s=\"0 = Buena \\n1 = Excelente\",  # texto\n",
    "         bbox=dict(facecolor=\"white\", edgecolor=\"lightblue\", boxstyle=\"square,pad=0.5\"),  # estilo de caja\n",
    "         ha=\"left\")"
   ]
  },
  {
   "cell_type": "code",
   "execution_count": 48,
   "id": "2184d90b",
   "metadata": {},
   "outputs": [
    {
     "data": {
      "text/html": [
       "<div>\n",
       "<style scoped>\n",
       "    .dataframe tbody tr th:only-of-type {\n",
       "        vertical-align: middle;\n",
       "    }\n",
       "\n",
       "    .dataframe tbody tr th {\n",
       "        vertical-align: top;\n",
       "    }\n",
       "\n",
       "    .dataframe thead th {\n",
       "        text-align: right;\n",
       "    }\n",
       "</style>\n",
       "<table border=\"1\" class=\"dataframe\">\n",
       "  <thead>\n",
       "    <tr style=\"text-align: right;\">\n",
       "      <th></th>\n",
       "      <th>badge_product_quality</th>\n",
       "      <th>product_id</th>\n",
       "    </tr>\n",
       "  </thead>\n",
       "  <tbody>\n",
       "    <tr>\n",
       "      <th>0</th>\n",
       "      <td>0</td>\n",
       "      <td>1456</td>\n",
       "    </tr>\n",
       "    <tr>\n",
       "      <th>1</th>\n",
       "      <td>1</td>\n",
       "      <td>117</td>\n",
       "    </tr>\n",
       "  </tbody>\n",
       "</table>\n",
       "</div>"
      ],
      "text/plain": [
       "   badge_product_quality  product_id\n",
       "0                      0        1456\n",
       "1                      1         117"
      ]
     },
     "execution_count": 48,
     "metadata": {},
     "output_type": "execute_result"
    }
   ],
   "source": [
    "df_quality= df_pair8.groupby('badge_product_quality')[\"product_id\"].count().reset_index()\n",
    "df_quality"
   ]
  },
  {
   "cell_type": "code",
   "execution_count": 49,
   "id": "6335710c",
   "metadata": {},
   "outputs": [
    {
     "name": "stdout",
     "output_type": "stream",
     "text": [
      "0.9256198347107438\n"
     ]
    }
   ],
   "source": [
    "print(1456/(1456+117))"
   ]
  },
  {
   "cell_type": "markdown",
   "id": "dc57041d",
   "metadata": {},
   "source": [
    "# Interpretación:\n",
    "- Tenemos como categoria dominante la calidad \"buena\" con el 93% frente al 7% de excelente calidad."
   ]
  },
  {
   "cell_type": "markdown",
   "id": "40587a47",
   "metadata": {},
   "source": [
    "# 3 ¿Cuál es la relación entre el precio de envío y las unidades vendidas?"
   ]
  },
  {
   "cell_type": "code",
   "execution_count": null,
   "id": "72778b12",
   "metadata": {},
   "outputs": [
    {
     "data": {
      "image/png": "[encoded data removed]",
      "text/plain": [
       "<Figure size 640x480 with 1 Axes>"
      ]
     },
     "metadata": {},
     "output_type": "display_data"
    }
   ],
   "source": [
    "sns.countplot(x = \"shipping_option_price\", \n",
    "              data = df_pair8,\n",
    "              color = \"c\",\n",
    "              order = ['2','3','1','4','5','6','7','12'])\n",
    "\n",
    "\n",
    "# giramos las etiquetas del eje \"x\", en este caso a 90º. En este caso solo vamos a usar el parámetro 'rotation', \n",
    "# más adelante veremos mas ejemplos para usar los otros parámetros. \n",
    "plt.xticks(rotation = 0)\n",
    "\n",
    "# cambiamos el nombre de los ejes usando los métodos 'plt.ylabel()' y 'plt.xlabel()' ya que estamos creando solo una gráfica\n",
    "plt.xlabel(\"Nivel de educación\")\n",
    "plt.ylabel(\"Unidades vendidas\");"
   ]
  },
  {
   "cell_type": "code",
   "execution_count": 53,
   "id": "3ec4ba91",
   "metadata": {},
   "outputs": [
    {
     "name": "stderr",
     "output_type": "stream",
     "text": [
      "/var/folders/ms/7jvq50_d0x17gf92g_mnlzp40000gn/T/ipykernel_4568/753466285.py:6: FutureWarning: \n",
      "\n",
      "Passing `palette` without assigning `hue` is deprecated and will be removed in v0.14.0. Assign the `x` variable to `hue` and set `legend=False` for the same effect.\n",
      "\n",
      "  sns.boxplot(x = \"shipping_option_price\",\n",
      "/var/folders/ms/7jvq50_d0x17gf92g_mnlzp40000gn/T/ipykernel_4568/753466285.py:14: FutureWarning: \n",
      "\n",
      "The `ci` parameter is deprecated. Use `errorbar=None` for the same effect.\n",
      "\n",
      "  sns.barplot(x = \"shipping_option_price\",\n",
      "/var/folders/ms/7jvq50_d0x17gf92g_mnlzp40000gn/T/ipykernel_4568/753466285.py:14: FutureWarning: \n",
      "\n",
      "Passing `palette` without assigning `hue` is deprecated and will be removed in v0.14.0. Assign the `x` variable to `hue` and set `legend=False` for the same effect.\n",
      "\n",
      "  sns.barplot(x = \"shipping_option_price\",\n"
     ]
    },
    {
     "data": {
      "image/png": "[encoded data removed]",
      "text/plain": [
       "<Figure size 2000x500 with 2 Axes>"
      ]
     },
     "metadata": {},
     "output_type": "display_data"
    }
   ],
   "source": [
    "# comenzamos empezando estableciendo nuestra gráfica y indicando el número de filas y columnas que queremos\n",
    "fig, axes = plt.subplots(nrows = 1, ncols = 2, figsize = (20,5))\n",
    "\n",
    "# creamos un boxplot, recordemos que en el caso de Seaborn para indicar en el subplot lo queremos tenemos que usar el parámetro 'ax' dentro del método de la función\n",
    "# fijaos que la única diferencia con los boxplot que hemos creado previamente es que hemos añadido el parametro 'y' \n",
    "sns.boxplot(x = \"shipping_option_price\", \n",
    "            y = \"units_sold\", \n",
    "            data = df_pair8, \n",
    "            ax = axes[0], \n",
    "            palette= \"mako\")\n",
    "\n",
    "\n",
    "# creamos nuestro primer barplot. 📌 LO QUE NOS MUESTRA ES LA MEDIA DE EDAD EN FUNCIÓN DEL ESTADO CIVIL\n",
    "sns.barplot(x = \"shipping_option_price\", \n",
    "            y = \"units_sold\", \n",
    "            data = df_pair8,\n",
    "            ci = None,\n",
    "            ax = axes[1], \n",
    "            palette = \"magma\")\n",
    "\n",
    "\n",
    "# añadimos título al conjunto de todas las gráficas usando '.suptitle()'\n",
    "plt.suptitle(\"Comparación precio envio y unidades vendidas\")\n",
    "\n",
    "# añadimos el 'plt.tigth_layout()' para que se ajusten los elementos de la gráfica\n",
    "plt.tight_layout()"
   ]
  },
  {
   "cell_type": "markdown",
   "id": "526c764c",
   "metadata": {},
   "source": [
    "# interpretación:\n",
    "- Vemos que en la categoria 2 y 3 el 50% central estan mas dispersos que en el resto de las categorias. (Rango intercuartilico es más grande).\n",
    "- Las categorias de envio con un promedio mas alto de unidades vendidas son las categorias 1, 2 y 3. Mientras que la categoria 6 se ubica en un segundo grupo de forma aislada y, por ultimo, las categorias 4, 5 y 7 presentan un menor promedio de unidades vendidas.\n",
    "Esto puede deberse a que las categorias 1, 2, 3 y 4 tienen outliers muy altos que hacen aumentar el promedio.\n",
    "\n",
    "- No es posible identificar las medianas con precisión, no es muy diferenciable el nivel entre categorias. Por lo que, hasta el 50% de observaciones las categorias no tendrian diferencia en unidades vendidas, encontrariamos las diferencia mayor en el top 50, donde vemos mayor correlación negativa."
   ]
  },
  {
   "cell_type": "markdown",
   "id": "7e5b7a3d",
   "metadata": {},
   "source": [
    "# 4 ¿Qué países reciben más productos de este conjunto de datos? Muestra un gráfico de barras horizontales."
   ]
  },
  {
   "cell_type": "code",
   "execution_count": 63,
   "id": "4ff4f838",
   "metadata": {},
   "outputs": [
    {
     "name": "stdout",
     "output_type": "stream",
     "text": [
      "\u001b[0;31mSignature:\u001b[0m\n",
      "\u001b[0msns\u001b[0m\u001b[0;34m.\u001b[0m\u001b[0mcountplot\u001b[0m\u001b[0;34m(\u001b[0m\u001b[0;34m\u001b[0m\n",
      "\u001b[0;34m\u001b[0m    \u001b[0mdata\u001b[0m\u001b[0;34m=\u001b[0m\u001b[0;32mNone\u001b[0m\u001b[0;34m,\u001b[0m\u001b[0;34m\u001b[0m\n",
      "\u001b[0;34m\u001b[0m    \u001b[0;34m*\u001b[0m\u001b[0;34m,\u001b[0m\u001b[0;34m\u001b[0m\n",
      "\u001b[0;34m\u001b[0m    \u001b[0mx\u001b[0m\u001b[0;34m=\u001b[0m\u001b[0;32mNone\u001b[0m\u001b[0;34m,\u001b[0m\u001b[0;34m\u001b[0m\n",
      "\u001b[0;34m\u001b[0m    \u001b[0my\u001b[0m\u001b[0;34m=\u001b[0m\u001b[0;32mNone\u001b[0m\u001b[0;34m,\u001b[0m\u001b[0;34m\u001b[0m\n",
      "\u001b[0;34m\u001b[0m    \u001b[0mhue\u001b[0m\u001b[0;34m=\u001b[0m\u001b[0;32mNone\u001b[0m\u001b[0;34m,\u001b[0m\u001b[0;34m\u001b[0m\n",
      "\u001b[0;34m\u001b[0m    \u001b[0morder\u001b[0m\u001b[0;34m=\u001b[0m\u001b[0;32mNone\u001b[0m\u001b[0;34m,\u001b[0m\u001b[0;34m\u001b[0m\n",
      "\u001b[0;34m\u001b[0m    \u001b[0mhue_order\u001b[0m\u001b[0;34m=\u001b[0m\u001b[0;32mNone\u001b[0m\u001b[0;34m,\u001b[0m\u001b[0;34m\u001b[0m\n",
      "\u001b[0;34m\u001b[0m    \u001b[0morient\u001b[0m\u001b[0;34m=\u001b[0m\u001b[0;32mNone\u001b[0m\u001b[0;34m,\u001b[0m\u001b[0;34m\u001b[0m\n",
      "\u001b[0;34m\u001b[0m    \u001b[0mcolor\u001b[0m\u001b[0;34m=\u001b[0m\u001b[0;32mNone\u001b[0m\u001b[0;34m,\u001b[0m\u001b[0;34m\u001b[0m\n",
      "\u001b[0;34m\u001b[0m    \u001b[0mpalette\u001b[0m\u001b[0;34m=\u001b[0m\u001b[0;32mNone\u001b[0m\u001b[0;34m,\u001b[0m\u001b[0;34m\u001b[0m\n",
      "\u001b[0;34m\u001b[0m    \u001b[0msaturation\u001b[0m\u001b[0;34m=\u001b[0m\u001b[0;36m0.75\u001b[0m\u001b[0;34m,\u001b[0m\u001b[0;34m\u001b[0m\n",
      "\u001b[0;34m\u001b[0m    \u001b[0mfill\u001b[0m\u001b[0;34m=\u001b[0m\u001b[0;32mTrue\u001b[0m\u001b[0;34m,\u001b[0m\u001b[0;34m\u001b[0m\n",
      "\u001b[0;34m\u001b[0m    \u001b[0mhue_norm\u001b[0m\u001b[0;34m=\u001b[0m\u001b[0;32mNone\u001b[0m\u001b[0;34m,\u001b[0m\u001b[0;34m\u001b[0m\n",
      "\u001b[0;34m\u001b[0m    \u001b[0mstat\u001b[0m\u001b[0;34m=\u001b[0m\u001b[0;34m'count'\u001b[0m\u001b[0;34m,\u001b[0m\u001b[0;34m\u001b[0m\n",
      "\u001b[0;34m\u001b[0m    \u001b[0mwidth\u001b[0m\u001b[0;34m=\u001b[0m\u001b[0;36m0.8\u001b[0m\u001b[0;34m,\u001b[0m\u001b[0;34m\u001b[0m\n",
      "\u001b[0;34m\u001b[0m    \u001b[0mdodge\u001b[0m\u001b[0;34m=\u001b[0m\u001b[0;34m'auto'\u001b[0m\u001b[0;34m,\u001b[0m\u001b[0;34m\u001b[0m\n",
      "\u001b[0;34m\u001b[0m    \u001b[0mgap\u001b[0m\u001b[0;34m=\u001b[0m\u001b[0;36m0\u001b[0m\u001b[0;34m,\u001b[0m\u001b[0;34m\u001b[0m\n",
      "\u001b[0;34m\u001b[0m    \u001b[0mlog_scale\u001b[0m\u001b[0;34m=\u001b[0m\u001b[0;32mNone\u001b[0m\u001b[0;34m,\u001b[0m\u001b[0;34m\u001b[0m\n",
      "\u001b[0;34m\u001b[0m    \u001b[0mnative_scale\u001b[0m\u001b[0;34m=\u001b[0m\u001b[0;32mFalse\u001b[0m\u001b[0;34m,\u001b[0m\u001b[0;34m\u001b[0m\n",
      "\u001b[0;34m\u001b[0m    \u001b[0mformatter\u001b[0m\u001b[0;34m=\u001b[0m\u001b[0;32mNone\u001b[0m\u001b[0;34m,\u001b[0m\u001b[0;34m\u001b[0m\n",
      "\u001b[0;34m\u001b[0m    \u001b[0mlegend\u001b[0m\u001b[0;34m=\u001b[0m\u001b[0;34m'auto'\u001b[0m\u001b[0;34m,\u001b[0m\u001b[0;34m\u001b[0m\n",
      "\u001b[0;34m\u001b[0m    \u001b[0max\u001b[0m\u001b[0;34m=\u001b[0m\u001b[0;32mNone\u001b[0m\u001b[0;34m,\u001b[0m\u001b[0;34m\u001b[0m\n",
      "\u001b[0;34m\u001b[0m    \u001b[0;34m**\u001b[0m\u001b[0mkwargs\u001b[0m\u001b[0;34m,\u001b[0m\u001b[0;34m\u001b[0m\n",
      "\u001b[0;34m\u001b[0m\u001b[0;34m)\u001b[0m\u001b[0;34m\u001b[0m\u001b[0;34m\u001b[0m\u001b[0m\n",
      "\u001b[0;31mDocstring:\u001b[0m\n",
      "Show the counts of observations in each categorical bin using bars.\n",
      "\n",
      "A count plot can be thought of as a histogram across a categorical, instead\n",
      "of quantitative, variable. The basic API and options are identical to those\n",
      "for :func:`barplot`, so you can compare counts across nested variables.\n",
      "\n",
      "Note that :func:`histplot` function offers similar functionality with additional\n",
      "features (e.g. bar stacking), although its default behavior is somewhat different.\n",
      "\n",
      "See the :ref:`tutorial <categorical_tutorial>` for more information.\n",
      "\n",
      ".. note::\n",
      "    By default, this function treats one of the variables as categorical\n",
      "    and draws data at ordinal positions (0, 1, ... n) on the relevant axis.\n",
      "    As of version 0.13.0, this can be disabled by setting `native_scale=True`.\n",
      "\n",
      "\n",
      "Parameters\n",
      "----------\n",
      "data : DataFrame, Series, dict, array, or list of arrays\n",
      "    Dataset for plotting. If `x` and `y` are absent, this is\n",
      "    interpreted as wide-form. Otherwise it is expected to be long-form.    \n",
      "x, y, hue : names of variables in `data` or vector data\n",
      "    Inputs for plotting long-form data. See examples for interpretation.    \n",
      "order, hue_order : lists of strings\n",
      "    Order to plot the categorical levels in; otherwise the levels are\n",
      "    inferred from the data objects.    \n",
      "orient : \"v\" | \"h\" | \"x\" | \"y\"\n",
      "    Orientation of the plot (vertical or horizontal). This is usually\n",
      "    inferred based on the type of the input variables, but it can be used\n",
      "    to resolve ambiguity when both `x` and `y` are numeric or when\n",
      "    plotting wide-form data.\n",
      "\n",
      "    .. versionchanged:: v0.13.0\n",
      "        Added 'x'/'y' as options, equivalent to 'v'/'h'.    \n",
      "color : matplotlib color\n",
      "    Single color for the elements in the plot.    \n",
      "palette : palette name, list, or dict\n",
      "    Colors to use for the different levels of the ``hue`` variable. Should\n",
      "    be something that can be interpreted by :func:`color_palette`, or a\n",
      "    dictionary mapping hue levels to matplotlib colors.    \n",
      "saturation : float\n",
      "    Proportion of the original saturation to draw fill colors in. Large\n",
      "    patches often look better with desaturated colors, but set this to\n",
      "    `1` if you want the colors to perfectly match the input values.    \n",
      "hue_norm : tuple or :class:`matplotlib.colors.Normalize` object\n",
      "    Normalization in data units for colormap applied to the `hue`\n",
      "    variable when it is numeric. Not relevant if `hue` is categorical.\n",
      "\n",
      "    .. versionadded:: v0.12.0    \n",
      "stat : {'count', 'percent', 'proportion', 'probability'}\n",
      "    Statistic to compute; when not `'count'`, bar heights will be normalized so that\n",
      "    they sum to 100 (for `'percent'`) or 1 (otherwise) across the plot.\n",
      "\n",
      "    .. versionadded:: v0.13.0\n",
      "width : float\n",
      "    Width allotted to each element on the orient axis. When `native_scale=True`,\n",
      "    it is relative to the minimum distance between two values in the native scale.    \n",
      "dodge : \"auto\" or bool\n",
      "    When hue mapping is used, whether elements should be narrowed and shifted along\n",
      "    the orient axis to eliminate overlap. If `\"auto\"`, set to `True` when the\n",
      "    orient variable is crossed with the categorical variable or `False` otherwise.\n",
      "\n",
      "    .. versionchanged:: 0.13.0\n",
      "\n",
      "        Added `\"auto\"` mode as a new default.    \n",
      "log_scale : bool or number, or pair of bools or numbers\n",
      "    Set axis scale(s) to log. A single value sets the data axis for any numeric\n",
      "    axes in the plot. A pair of values sets each axis independently.\n",
      "    Numeric values are interpreted as the desired base (default 10).\n",
      "    When `None` or `False`, seaborn defers to the existing Axes scale.\n",
      "\n",
      "    .. versionadded:: v0.13.0    \n",
      "native_scale : bool\n",
      "    When True, numeric or datetime values on the categorical axis will maintain\n",
      "    their original scaling rather than being converted to fixed indices.\n",
      "\n",
      "    .. versionadded:: v0.13.0    \n",
      "formatter : callable\n",
      "    Function for converting categorical data into strings. Affects both grouping\n",
      "    and tick labels.\n",
      "\n",
      "    .. versionadded:: v0.13.0    \n",
      "legend : \"auto\", \"brief\", \"full\", or False\n",
      "    How to draw the legend. If \"brief\", numeric `hue` and `size`\n",
      "    variables will be represented with a sample of evenly spaced values.\n",
      "    If \"full\", every group will get an entry in the legend. If \"auto\",\n",
      "    choose between brief or full representation based on number of levels.\n",
      "    If `False`, no legend data is added and no legend is drawn.\n",
      "\n",
      "    .. versionadded:: v0.13.0    \n",
      "ax : matplotlib Axes\n",
      "    Axes object to draw the plot onto, otherwise uses the current Axes.    \n",
      "kwargs : key, value mappings\n",
      "    Other parameters are passed through to :class:`matplotlib.patches.Rectangle`.\n",
      "\n",
      "Returns\n",
      "-------\n",
      "ax : matplotlib Axes\n",
      "    Returns the Axes object with the plot drawn onto it.    \n",
      "\n",
      "See Also\n",
      "--------\n",
      "histplot : Bin and count observations with additional options.\n",
      "barplot : Show point estimates and confidence intervals using bars.    \n",
      "catplot : Combine a categorical plot with a :class:`FacetGrid`.    \n",
      "\n",
      "Examples\n",
      "--------\n",
      ".. include:: ../docstrings/countplot.rst\n",
      "\u001b[0;31mFile:\u001b[0m      /opt/anaconda3/lib/python3.12/site-packages/seaborn/categorical.py\n",
      "\u001b[0;31mType:\u001b[0m      function"
     ]
    }
   ],
   "source": [
    "sns.countplot?"
   ]
  },
  {
   "cell_type": "code",
   "execution_count": 67,
   "id": "ffc04e40",
   "metadata": {},
   "outputs": [
    {
     "data": {
      "image/png": "[encoded data removed]",
      "text/plain": [
       "<Figure size 640x480 with 1 Axes>"
      ]
     },
     "metadata": {},
     "output_type": "display_data"
    }
   ],
   "source": [
    "# Contar los valores y ordenarlos de mayor a menor\n",
    "orden_pais = df_pair8['countries_shipped_to'].value_counts().nlargest(15).index\n",
    "\n",
    "# Crear el gráfico de barras con los valores ordenados\n",
    "sns.countplot(y='countries_shipped_to', data=df_pair8, color = 'c', order=orden_pais, orient= 'v')\n",
    "\n",
    "# Girar las etiquetas del eje X\n",
    "plt.xticks(rotation=90)\n",
    "\n",
    "# Cambiar los nombres de los ejes\n",
    "plt.xlabel(\"suma de envios\")\n",
    "plt.ylabel(\"Nº Pais\")\n",
    "\n",
    "# Mostrar la gráfica\n",
    "plt.show()"
   ]
  },
  {
   "cell_type": "code",
   "execution_count": 81,
   "id": "a4e9da56",
   "metadata": {},
   "outputs": [
    {
     "ename": "ValueError",
     "evalue": "The column label 'units_sold' is not unique.\nFor a multi-index, the label must be a tuple with elements corresponding to each level.",
     "output_type": "error",
     "traceback": [
      "\u001b[0;31m---------------------------------------------------------------------------\u001b[0m",
      "\u001b[0;31mValueError\u001b[0m                                Traceback (most recent call last)",
      "\u001b[0;32m/var/folders/ms/7jvq50_d0x17gf92g_mnlzp40000gn/T/ipykernel_4568/3241444654.py\u001b[0m in \u001b[0;36m?\u001b[0;34m()\u001b[0m\n\u001b[1;32m      1\u001b[0m \u001b[0morden_pais\u001b[0m\u001b[0;34m=\u001b[0m \u001b[0mdf_pair8\u001b[0m\u001b[0;34m.\u001b[0m\u001b[0mgroupby\u001b[0m\u001b[0;34m(\u001b[0m\u001b[0;34m'countries_shipped_to'\u001b[0m\u001b[0;34m)\u001b[0m\u001b[0;34m.\u001b[0m\u001b[0magg\u001b[0m\u001b[0;34m(\u001b[0m\u001b[0;34m{\u001b[0m\u001b[0;34m'units_sold'\u001b[0m\u001b[0;34m:\u001b[0m \u001b[0;34m[\u001b[0m\u001b[0;34m'sum'\u001b[0m\u001b[0;34m]\u001b[0m\u001b[0;34m}\u001b[0m\u001b[0;34m)\u001b[0m\u001b[0;34m.\u001b[0m\u001b[0mreset_index\u001b[0m\u001b[0;34m(\u001b[0m\u001b[0;34m)\u001b[0m\u001b[0;34m\u001b[0m\u001b[0;34m\u001b[0m\u001b[0m\n\u001b[0;32m----> 2\u001b[0;31m \u001b[0morden_pais\u001b[0m \u001b[0;34m=\u001b[0m \u001b[0morden_pais\u001b[0m\u001b[0;34m.\u001b[0m\u001b[0msort_values\u001b[0m\u001b[0;34m(\u001b[0m\u001b[0mby\u001b[0m\u001b[0;34m=\u001b[0m\u001b[0;34m'units_sold'\u001b[0m\u001b[0;34m,\u001b[0m \u001b[0mascending\u001b[0m\u001b[0;34m=\u001b[0m\u001b[0;32mFalse\u001b[0m\u001b[0;34m)\u001b[0m \u001b[0;31m#Descending order\u001b[0m\u001b[0;34m\u001b[0m\u001b[0;34m\u001b[0m\u001b[0m\n\u001b[0m\u001b[1;32m      3\u001b[0m \u001b[0morden_pais\u001b[0m\u001b[0;34m\u001b[0m\u001b[0;34m\u001b[0m\u001b[0m\n",
      "\u001b[0;32m/opt/anaconda3/lib/python3.12/site-packages/pandas/core/frame.py\u001b[0m in \u001b[0;36m?\u001b[0;34m(self, by, axis, ascending, inplace, kind, na_position, ignore_index, key)\u001b[0m\n\u001b[1;32m   7185\u001b[0m             \u001b[0;34m)\u001b[0m\u001b[0;34m\u001b[0m\u001b[0;34m\u001b[0m\u001b[0m\n\u001b[1;32m   7186\u001b[0m         \u001b[0;32melif\u001b[0m \u001b[0mlen\u001b[0m\u001b[0;34m(\u001b[0m\u001b[0mby\u001b[0m\u001b[0;34m)\u001b[0m\u001b[0;34m:\u001b[0m\u001b[0;34m\u001b[0m\u001b[0;34m\u001b[0m\u001b[0m\n\u001b[1;32m   7187\u001b[0m             \u001b[0;31m# len(by) == 1\u001b[0m\u001b[0;34m\u001b[0m\u001b[0;34m\u001b[0m\u001b[0m\n\u001b[1;32m   7188\u001b[0m \u001b[0;34m\u001b[0m\u001b[0m\n\u001b[0;32m-> 7189\u001b[0;31m             \u001b[0mk\u001b[0m \u001b[0;34m=\u001b[0m \u001b[0mself\u001b[0m\u001b[0;34m.\u001b[0m\u001b[0m_get_label_or_level_values\u001b[0m\u001b[0;34m(\u001b[0m\u001b[0mby\u001b[0m\u001b[0;34m[\u001b[0m\u001b[0;36m0\u001b[0m\u001b[0;34m]\u001b[0m\u001b[0;34m,\u001b[0m \u001b[0maxis\u001b[0m\u001b[0;34m=\u001b[0m\u001b[0maxis\u001b[0m\u001b[0;34m)\u001b[0m\u001b[0;34m\u001b[0m\u001b[0;34m\u001b[0m\u001b[0m\n\u001b[0m\u001b[1;32m   7190\u001b[0m \u001b[0;34m\u001b[0m\u001b[0m\n\u001b[1;32m   7191\u001b[0m             \u001b[0;31m# need to rewrap column in Series to apply key function\u001b[0m\u001b[0;34m\u001b[0m\u001b[0;34m\u001b[0m\u001b[0m\n\u001b[1;32m   7192\u001b[0m             \u001b[0;32mif\u001b[0m \u001b[0mkey\u001b[0m \u001b[0;32mis\u001b[0m \u001b[0;32mnot\u001b[0m \u001b[0;32mNone\u001b[0m\u001b[0;34m:\u001b[0m\u001b[0;34m\u001b[0m\u001b[0;34m\u001b[0m\u001b[0m\n",
      "\u001b[0;32m/opt/anaconda3/lib/python3.12/site-packages/pandas/core/generic.py\u001b[0m in \u001b[0;36m?\u001b[0;34m(self, key, axis)\u001b[0m\n\u001b[1;32m   1921\u001b[0m             \u001b[0;32melse\u001b[0m\u001b[0;34m:\u001b[0m\u001b[0;34m\u001b[0m\u001b[0;34m\u001b[0m\u001b[0m\n\u001b[1;32m   1922\u001b[0m                 \u001b[0mmulti_message\u001b[0m \u001b[0;34m=\u001b[0m \u001b[0;34m\"\"\u001b[0m\u001b[0;34m\u001b[0m\u001b[0;34m\u001b[0m\u001b[0m\n\u001b[1;32m   1923\u001b[0m \u001b[0;34m\u001b[0m\u001b[0m\n\u001b[1;32m   1924\u001b[0m             \u001b[0mlabel_axis_name\u001b[0m \u001b[0;34m=\u001b[0m \u001b[0;34m\"column\"\u001b[0m \u001b[0;32mif\u001b[0m \u001b[0maxis\u001b[0m \u001b[0;34m==\u001b[0m \u001b[0;36m0\u001b[0m \u001b[0;32melse\u001b[0m \u001b[0;34m\"index\"\u001b[0m\u001b[0;34m\u001b[0m\u001b[0;34m\u001b[0m\u001b[0m\n\u001b[0;32m-> 1925\u001b[0;31m             raise ValueError(\n\u001b[0m\u001b[1;32m   1926\u001b[0m                 \u001b[0;34mf\"\u001b[0m\u001b[0;34mThe \u001b[0m\u001b[0;34m{\u001b[0m\u001b[0mlabel_axis_name\u001b[0m\u001b[0;34m}\u001b[0m\u001b[0;34m label '\u001b[0m\u001b[0;34m{\u001b[0m\u001b[0mkey\u001b[0m\u001b[0;34m}\u001b[0m\u001b[0;34m' is not unique.\u001b[0m\u001b[0;34m{\u001b[0m\u001b[0mmulti_message\u001b[0m\u001b[0;34m}\u001b[0m\u001b[0;34m\"\u001b[0m\u001b[0;34m\u001b[0m\u001b[0;34m\u001b[0m\u001b[0m\n\u001b[1;32m   1927\u001b[0m             \u001b[0;34m)\u001b[0m\u001b[0;34m\u001b[0m\u001b[0;34m\u001b[0m\u001b[0m\n\u001b[1;32m   1928\u001b[0m \u001b[0;34m\u001b[0m\u001b[0m\n",
      "\u001b[0;31mValueError\u001b[0m: The column label 'units_sold' is not unique.\nFor a multi-index, the label must be a tuple with elements corresponding to each level."
     ]
    }
   ],
   "source": [
    "orden_pais= df_pair8.groupby('countries_shipped_to').agg({'units_sold': ['sum']}).reset_index()\n",
    "orden_pais = orden_pais.sort_values(by='units_sold', ascending=False) #Descending order\n",
    "orden_pais"
   ]
  },
  {
   "cell_type": "code",
   "execution_count": 73,
   "id": "8f1d5a67",
   "metadata": {},
   "outputs": [
    {
     "ename": "ValueError",
     "evalue": "Names should be list-like for a MultiIndex",
     "output_type": "error",
     "traceback": [
      "\u001b[0;31m---------------------------------------------------------------------------\u001b[0m",
      "\u001b[0;31mValueError\u001b[0m                                Traceback (most recent call last)",
      "Cell \u001b[0;32mIn[73], line 6\u001b[0m\n\u001b[1;32m      2\u001b[0m orden_pais\u001b[38;5;241m=\u001b[39m df_pair8\u001b[38;5;241m.\u001b[39mgroupby(\u001b[38;5;124m'\u001b[39m\u001b[38;5;124mcountries_shipped_to\u001b[39m\u001b[38;5;124m'\u001b[39m)\u001b[38;5;241m.\u001b[39magg({\u001b[38;5;124m'\u001b[39m\u001b[38;5;124munits_sold\u001b[39m\u001b[38;5;124m'\u001b[39m: [\u001b[38;5;124m'\u001b[39m\u001b[38;5;124msum\u001b[39m\u001b[38;5;124m'\u001b[39m]})\u001b[38;5;241m.\u001b[39mreset_index()\n\u001b[1;32m      5\u001b[0m \u001b[38;5;66;03m# Crear el gráfico de barras con los valores ordenados\u001b[39;00m\n\u001b[0;32m----> 6\u001b[0m sns\u001b[38;5;241m.\u001b[39mcountplot(y\u001b[38;5;241m=\u001b[39m\u001b[38;5;124m'\u001b[39m\u001b[38;5;124mcountries_shipped_to\u001b[39m\u001b[38;5;124m'\u001b[39m, data\u001b[38;5;241m=\u001b[39mdf_pair8, color \u001b[38;5;241m=\u001b[39m \u001b[38;5;124m'\u001b[39m\u001b[38;5;124mc\u001b[39m\u001b[38;5;124m'\u001b[39m, order\u001b[38;5;241m=\u001b[39morden_pais, orient\u001b[38;5;241m=\u001b[39m \u001b[38;5;124m'\u001b[39m\u001b[38;5;124mv\u001b[39m\u001b[38;5;124m'\u001b[39m)\n\u001b[1;32m      8\u001b[0m \u001b[38;5;66;03m# Girar las etiquetas del eje X\u001b[39;00m\n\u001b[1;32m      9\u001b[0m plt\u001b[38;5;241m.\u001b[39mxticks(rotation\u001b[38;5;241m=\u001b[39m\u001b[38;5;241m90\u001b[39m)\n",
      "File \u001b[0;32m/opt/anaconda3/lib/python3.12/site-packages/seaborn/categorical.py:2651\u001b[0m, in \u001b[0;36mcountplot\u001b[0;34m(data, x, y, hue, order, hue_order, orient, color, palette, saturation, fill, hue_norm, stat, width, dodge, gap, log_scale, native_scale, formatter, legend, ax, **kwargs)\u001b[0m\n\u001b[1;32m   2648\u001b[0m     dodge \u001b[38;5;241m=\u001b[39m p\u001b[38;5;241m.\u001b[39m_dodge_needed()\n\u001b[1;32m   2650\u001b[0m \u001b[38;5;28;01mif\u001b[39;00m p\u001b[38;5;241m.\u001b[39mvar_types\u001b[38;5;241m.\u001b[39mget(p\u001b[38;5;241m.\u001b[39morient) \u001b[38;5;241m==\u001b[39m \u001b[38;5;124m\"\u001b[39m\u001b[38;5;124mcategorical\u001b[39m\u001b[38;5;124m\"\u001b[39m \u001b[38;5;129;01mor\u001b[39;00m \u001b[38;5;129;01mnot\u001b[39;00m native_scale:\n\u001b[0;32m-> 2651\u001b[0m     p\u001b[38;5;241m.\u001b[39mscale_categorical(p\u001b[38;5;241m.\u001b[39morient, order\u001b[38;5;241m=\u001b[39morder, formatter\u001b[38;5;241m=\u001b[39mformatter)\n\u001b[1;32m   2653\u001b[0m p\u001b[38;5;241m.\u001b[39m_attach(ax, log_scale\u001b[38;5;241m=\u001b[39mlog_scale)\n\u001b[1;32m   2655\u001b[0m \u001b[38;5;66;03m# Deprecations to remove in v0.14.0.\u001b[39;00m\n",
      "File \u001b[0;32m/opt/anaconda3/lib/python3.12/site-packages/seaborn/_base.py:1427\u001b[0m, in \u001b[0;36mVectorPlotter.scale_categorical\u001b[0;34m(self, axis, order, formatter)\u001b[0m\n\u001b[1;32m   1422\u001b[0m \u001b[38;5;66;03m# Get the initial categorical order, which we do before string\u001b[39;00m\n\u001b[1;32m   1423\u001b[0m \u001b[38;5;66;03m# conversion to respect the original types of the order list.\u001b[39;00m\n\u001b[1;32m   1424\u001b[0m \u001b[38;5;66;03m# Track whether the order is given explicitly so that we can know\u001b[39;00m\n\u001b[1;32m   1425\u001b[0m \u001b[38;5;66;03m# whether or not to use the order constructed here downstream\u001b[39;00m\n\u001b[1;32m   1426\u001b[0m \u001b[38;5;28mself\u001b[39m\u001b[38;5;241m.\u001b[39m_var_ordered[axis] \u001b[38;5;241m=\u001b[39m order \u001b[38;5;129;01mis\u001b[39;00m \u001b[38;5;129;01mnot\u001b[39;00m \u001b[38;5;28;01mNone\u001b[39;00m \u001b[38;5;129;01mor\u001b[39;00m cat_data\u001b[38;5;241m.\u001b[39mdtype\u001b[38;5;241m.\u001b[39mname \u001b[38;5;241m==\u001b[39m \u001b[38;5;124m\"\u001b[39m\u001b[38;5;124mcategory\u001b[39m\u001b[38;5;124m\"\u001b[39m\n\u001b[0;32m-> 1427\u001b[0m order \u001b[38;5;241m=\u001b[39m pd\u001b[38;5;241m.\u001b[39mIndex(categorical_order(cat_data, order), name\u001b[38;5;241m=\u001b[39maxis)\n\u001b[1;32m   1429\u001b[0m \u001b[38;5;66;03m# Then convert data to strings. This is because in matplotlib,\u001b[39;00m\n\u001b[1;32m   1430\u001b[0m \u001b[38;5;66;03m# \"categorical\" data really mean \"string\" data, so doing this artists\u001b[39;00m\n\u001b[1;32m   1431\u001b[0m \u001b[38;5;66;03m# will be drawn on the categorical axis with a fixed scale.\u001b[39;00m\n\u001b[1;32m   1432\u001b[0m \u001b[38;5;66;03m# TODO implement formatter here; check that it returns strings?\u001b[39;00m\n\u001b[1;32m   1433\u001b[0m \u001b[38;5;28;01mif\u001b[39;00m formatter \u001b[38;5;129;01mis\u001b[39;00m \u001b[38;5;129;01mnot\u001b[39;00m \u001b[38;5;28;01mNone\u001b[39;00m:\n",
      "File \u001b[0;32m/opt/anaconda3/lib/python3.12/site-packages/pandas/core/indexes/base.py:547\u001b[0m, in \u001b[0;36mIndex.__new__\u001b[0;34m(cls, data, dtype, copy, name, tupleize_cols)\u001b[0m\n\u001b[1;32m    543\u001b[0m         \u001b[38;5;28;01mfrom\u001b[39;00m \u001b[38;5;21;01mpandas\u001b[39;00m\u001b[38;5;21;01m.\u001b[39;00m\u001b[38;5;21;01mcore\u001b[39;00m\u001b[38;5;21;01m.\u001b[39;00m\u001b[38;5;21;01mindexes\u001b[39;00m\u001b[38;5;21;01m.\u001b[39;00m\u001b[38;5;21;01mmulti\u001b[39;00m \u001b[38;5;28;01mimport\u001b[39;00m MultiIndex\n\u001b[1;32m    545\u001b[0m         \u001b[38;5;66;03m# error: Incompatible return value type (got \"MultiIndex\",\u001b[39;00m\n\u001b[1;32m    546\u001b[0m         \u001b[38;5;66;03m# expected \"Self\")\u001b[39;00m\n\u001b[0;32m--> 547\u001b[0m         \u001b[38;5;28;01mreturn\u001b[39;00m MultiIndex\u001b[38;5;241m.\u001b[39mfrom_tuples(  \u001b[38;5;66;03m# type: ignore[return-value]\u001b[39;00m\n\u001b[1;32m    548\u001b[0m             data, names\u001b[38;5;241m=\u001b[39mname\n\u001b[1;32m    549\u001b[0m         )\n\u001b[1;32m    550\u001b[0m \u001b[38;5;66;03m# other iterable of some kind\u001b[39;00m\n\u001b[1;32m    552\u001b[0m \u001b[38;5;28;01mif\u001b[39;00m \u001b[38;5;129;01mnot\u001b[39;00m \u001b[38;5;28misinstance\u001b[39m(data, (\u001b[38;5;28mlist\u001b[39m, \u001b[38;5;28mtuple\u001b[39m)):\n\u001b[1;32m    553\u001b[0m     \u001b[38;5;66;03m# we allow set/frozenset, which Series/sanitize_array does not, so\u001b[39;00m\n\u001b[1;32m    554\u001b[0m     \u001b[38;5;66;03m#  cast to list here\u001b[39;00m\n",
      "File \u001b[0;32m/opt/anaconda3/lib/python3.12/site-packages/pandas/core/indexes/multi.py:222\u001b[0m, in \u001b[0;36mnames_compat.<locals>.new_meth\u001b[0;34m(self_or_cls, *args, **kwargs)\u001b[0m\n\u001b[1;32m    219\u001b[0m \u001b[38;5;28;01mif\u001b[39;00m \u001b[38;5;124m\"\u001b[39m\u001b[38;5;124mname\u001b[39m\u001b[38;5;124m\"\u001b[39m \u001b[38;5;129;01min\u001b[39;00m kwargs:\n\u001b[1;32m    220\u001b[0m     kwargs[\u001b[38;5;124m\"\u001b[39m\u001b[38;5;124mnames\u001b[39m\u001b[38;5;124m\"\u001b[39m] \u001b[38;5;241m=\u001b[39m kwargs\u001b[38;5;241m.\u001b[39mpop(\u001b[38;5;124m\"\u001b[39m\u001b[38;5;124mname\u001b[39m\u001b[38;5;124m\"\u001b[39m)\n\u001b[0;32m--> 222\u001b[0m \u001b[38;5;28;01mreturn\u001b[39;00m meth(self_or_cls, \u001b[38;5;241m*\u001b[39margs, \u001b[38;5;241m*\u001b[39m\u001b[38;5;241m*\u001b[39mkwargs)\n",
      "File \u001b[0;32m/opt/anaconda3/lib/python3.12/site-packages/pandas/core/indexes/multi.py:624\u001b[0m, in \u001b[0;36mMultiIndex.from_tuples\u001b[0;34m(cls, tuples, sortorder, names)\u001b[0m\n\u001b[1;32m    621\u001b[0m     arrs \u001b[38;5;241m=\u001b[39m \u001b[38;5;28mzip\u001b[39m(\u001b[38;5;241m*\u001b[39mtuples)\n\u001b[1;32m    622\u001b[0m     arrays \u001b[38;5;241m=\u001b[39m cast(\u001b[38;5;28mlist\u001b[39m[Sequence[Hashable]], arrs)\n\u001b[0;32m--> 624\u001b[0m \u001b[38;5;28;01mreturn\u001b[39;00m \u001b[38;5;28mcls\u001b[39m\u001b[38;5;241m.\u001b[39mfrom_arrays(arrays, sortorder\u001b[38;5;241m=\u001b[39msortorder, names\u001b[38;5;241m=\u001b[39mnames)\n",
      "File \u001b[0;32m/opt/anaconda3/lib/python3.12/site-packages/pandas/core/indexes/multi.py:537\u001b[0m, in \u001b[0;36mMultiIndex.from_arrays\u001b[0;34m(cls, arrays, sortorder, names)\u001b[0m\n\u001b[1;32m    534\u001b[0m \u001b[38;5;28;01mif\u001b[39;00m names \u001b[38;5;129;01mis\u001b[39;00m lib\u001b[38;5;241m.\u001b[39mno_default:\n\u001b[1;32m    535\u001b[0m     names \u001b[38;5;241m=\u001b[39m [\u001b[38;5;28mgetattr\u001b[39m(arr, \u001b[38;5;124m\"\u001b[39m\u001b[38;5;124mname\u001b[39m\u001b[38;5;124m\"\u001b[39m, \u001b[38;5;28;01mNone\u001b[39;00m) \u001b[38;5;28;01mfor\u001b[39;00m arr \u001b[38;5;129;01min\u001b[39;00m arrays]\n\u001b[0;32m--> 537\u001b[0m \u001b[38;5;28;01mreturn\u001b[39;00m \u001b[38;5;28mcls\u001b[39m(\n\u001b[1;32m    538\u001b[0m     levels\u001b[38;5;241m=\u001b[39mlevels,\n\u001b[1;32m    539\u001b[0m     codes\u001b[38;5;241m=\u001b[39mcodes,\n\u001b[1;32m    540\u001b[0m     sortorder\u001b[38;5;241m=\u001b[39msortorder,\n\u001b[1;32m    541\u001b[0m     names\u001b[38;5;241m=\u001b[39mnames,\n\u001b[1;32m    542\u001b[0m     verify_integrity\u001b[38;5;241m=\u001b[39m\u001b[38;5;28;01mFalse\u001b[39;00m,\n\u001b[1;32m    543\u001b[0m )\n",
      "File \u001b[0;32m/opt/anaconda3/lib/python3.12/site-packages/pandas/core/indexes/multi.py:356\u001b[0m, in \u001b[0;36mMultiIndex.__new__\u001b[0;34m(cls, levels, codes, sortorder, names, dtype, copy, name, verify_integrity)\u001b[0m\n\u001b[1;32m    353\u001b[0m result\u001b[38;5;241m.\u001b[39m_names \u001b[38;5;241m=\u001b[39m [\u001b[38;5;28;01mNone\u001b[39;00m] \u001b[38;5;241m*\u001b[39m \u001b[38;5;28mlen\u001b[39m(levels)\n\u001b[1;32m    354\u001b[0m \u001b[38;5;28;01mif\u001b[39;00m names \u001b[38;5;129;01mis\u001b[39;00m \u001b[38;5;129;01mnot\u001b[39;00m \u001b[38;5;28;01mNone\u001b[39;00m:\n\u001b[1;32m    355\u001b[0m     \u001b[38;5;66;03m# handles name validation\u001b[39;00m\n\u001b[0;32m--> 356\u001b[0m     result\u001b[38;5;241m.\u001b[39m_set_names(names)\n\u001b[1;32m    358\u001b[0m \u001b[38;5;28;01mif\u001b[39;00m sortorder \u001b[38;5;129;01mis\u001b[39;00m \u001b[38;5;129;01mnot\u001b[39;00m \u001b[38;5;28;01mNone\u001b[39;00m:\n\u001b[1;32m    359\u001b[0m     result\u001b[38;5;241m.\u001b[39msortorder \u001b[38;5;241m=\u001b[39m \u001b[38;5;28mint\u001b[39m(sortorder)\n",
      "File \u001b[0;32m/opt/anaconda3/lib/python3.12/site-packages/pandas/core/indexes/multi.py:1602\u001b[0m, in \u001b[0;36mMultiIndex._set_names\u001b[0;34m(self, names, level, validate)\u001b[0m\n\u001b[1;32m   1599\u001b[0m \u001b[38;5;66;03m# GH 15110\u001b[39;00m\n\u001b[1;32m   1600\u001b[0m \u001b[38;5;66;03m# Don't allow a single string for names in a MultiIndex\u001b[39;00m\n\u001b[1;32m   1601\u001b[0m \u001b[38;5;28;01mif\u001b[39;00m names \u001b[38;5;129;01mis\u001b[39;00m \u001b[38;5;129;01mnot\u001b[39;00m \u001b[38;5;28;01mNone\u001b[39;00m \u001b[38;5;129;01mand\u001b[39;00m \u001b[38;5;129;01mnot\u001b[39;00m is_list_like(names):\n\u001b[0;32m-> 1602\u001b[0m     \u001b[38;5;28;01mraise\u001b[39;00m \u001b[38;5;167;01mValueError\u001b[39;00m(\u001b[38;5;124m\"\u001b[39m\u001b[38;5;124mNames should be list-like for a MultiIndex\u001b[39m\u001b[38;5;124m\"\u001b[39m)\n\u001b[1;32m   1603\u001b[0m names \u001b[38;5;241m=\u001b[39m \u001b[38;5;28mlist\u001b[39m(names)\n\u001b[1;32m   1605\u001b[0m \u001b[38;5;28;01mif\u001b[39;00m validate:\n",
      "\u001b[0;31mValueError\u001b[0m: Names should be list-like for a MultiIndex"
     ]
    },
    {
     "data": {
      "image/png": "[encoded data removed]",
      "text/plain": [
       "<Figure size 640x480 with 1 Axes>"
      ]
     },
     "metadata": {},
     "output_type": "display_data"
    }
   ],
   "source": [
    "# Contar los valores y ordenarlos de mayor a menor\n",
    "orden_pais= df_pair8.groupby('countries_shipped_to').agg({'units_sold': ['sum']}).reset_index()\n",
    "\n",
    "\n",
    "# Crear el gráfico de barras con los valores ordenados\n",
    "sns.countplot(y='countries_shipped_to', data=df_pair8, color = 'c', order=orden_pais, orient= 'v')\n",
    "\n",
    "# Girar las etiquetas del eje X\n",
    "plt.xticks(rotation=90)\n",
    "\n",
    "# Cambiar los nombres de los ejes\n",
    "plt.xlabel(\"suma de envios\")\n",
    "plt.ylabel(\"Nº Pais\")\n",
    "\n",
    "# Mostrar la gráfica\n",
    "plt.show()"
   ]
  },
  {
   "cell_type": "markdown",
   "id": "9f48bea3",
   "metadata": {},
   "source": [
    "# Interpretación:\n"
   ]
  },
  {
   "cell_type": "markdown",
   "id": "f0023dcf",
   "metadata": {},
   "source": [
    "# 5 ¿Cómo varía el precio promedio de los productos por país de origen?"
   ]
  }
 ],
 "metadata": {
  "kernelspec": {
   "display_name": "base",
   "language": "python",
   "name": "python3"
  },
  "language_info": {
   "codemirror_mode": {
    "name": "ipython",
    "version": 3
   },
   "file_extension": ".py",
   "mimetype": "text/x-python",
   "name": "python",
   "nbconvert_exporter": "python",
   "pygments_lexer": "ipython3",
   "version": "3.12.7"
  }
 },
 "nbformat": 4,
 "nbformat_minor": 5
}
