{
 "cells": [
  {
   "cell_type": "markdown",
   "id": "9ab9674f",
   "metadata": {},
   "source": [
    "# 1 ¿Qué porcentaje de productos tiene el distintivo \"Producto local\"?"
   ]
  },
  {
   "cell_type": "code",
   "execution_count": null,
   "id": "5625b316",
   "metadata": {},
   "outputs": [],
   "source": []
  },
  {
   "cell_type": "markdown",
   "id": "afedf6de",
   "metadata": {},
   "source": [
    "# 2 ¿Qué porcentaje de productos tiene el distintivo \"Buena calidad del producto\"."
   ]
  },
  {
   "cell_type": "code",
   "execution_count": null,
   "id": "8089e38b",
   "metadata": {},
   "outputs": [],
   "source": []
  },
  {
   "cell_type": "markdown",
   "id": "40587a47",
   "metadata": {},
   "source": [
    "# 3 ¿Cuál es la relación entre el precio de envío y las unidades vendidas?"
   ]
  },
  {
   "cell_type": "code",
   "execution_count": null,
   "id": "72778b12",
   "metadata": {},
   "outputs": [],
   "source": []
  },
  {
   "cell_type": "markdown",
   "id": "7e5b7a3d",
   "metadata": {},
   "source": [
    "# 4 ¿Qué países reciben más productos de este conjunto de datos? Muestra un gráfico de barras horizontales."
   ]
  },
  {
   "cell_type": "code",
   "execution_count": null,
   "id": "ffc04e40",
   "metadata": {},
   "outputs": [],
   "source": []
  },
  {
   "cell_type": "markdown",
   "id": "f0023dcf",
   "metadata": {},
   "source": [
    "# 5 ¿Cómo varía el precio promedio de los productos por país de origen?"
   ]
  }
 ],
 "metadata": {
  "language_info": {
   "name": "python"
  }
 },
 "nbformat": 4,
 "nbformat_minor": 5
}
