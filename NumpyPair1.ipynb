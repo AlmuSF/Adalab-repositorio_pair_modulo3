{
 "cells": [
  {
   "cell_type": "code",
   "execution_count": 1,
   "id": "900af030",
   "metadata": {},
   "outputs": [
    {
     "name": "stdout",
     "output_type": "stream",
     "text": [
      "Requirement already satisfied: numpy in /opt/anaconda3/lib/python3.12/site-packages (1.26.4)\n"
     ]
    }
   ],
   "source": [
    "!pip install numpy"
   ]
  },
  {
   "cell_type": "code",
   "execution_count": 2,
   "id": "4c82661c",
   "metadata": {},
   "outputs": [],
   "source": [
    "import numpy as np"
   ]
  },
  {
   "cell_type": "code",
   "execution_count": null,
   "id": "c8744c42",
   "metadata": {},
   "outputs": [],
   "source": [
    "# Genera un array bidimensional de 4 x 3 con valores aleatorios enteros entre el 34 y el 98. Una vez creado cada array comprueba las dimensiones y los tipos de datos que tenemos en el array"
   ]
  },
  {
   "cell_type": "code",
   "execution_count": 96,
   "id": "d0694412",
   "metadata": {},
   "outputs": [],
   "source": [
    "array_bi= np.random.randint(34,99,(4,3))"
   ]
  },
  {
   "cell_type": "code",
   "execution_count": 97,
   "id": "df76f61e",
   "metadata": {},
   "outputs": [
    {
     "data": {
      "text/plain": [
       "array([[94, 41, 53],\n",
       "       [97, 35, 83],\n",
       "       [79, 45, 43],\n",
       "       [56, 73, 53]])"
      ]
     },
     "execution_count": 97,
     "metadata": {},
     "output_type": "execute_result"
    }
   ],
   "source": [
    "array_bi"
   ]
  },
  {
   "cell_type": "code",
   "execution_count": 98,
   "id": "c34957a4",
   "metadata": {},
   "outputs": [
    {
     "data": {
      "text/plain": [
       "2"
      ]
     },
     "execution_count": 98,
     "metadata": {},
     "output_type": "execute_result"
    }
   ],
   "source": [
    "array_bi.ndim"
   ]
  },
  {
   "cell_type": "code",
   "execution_count": 99,
   "id": "4d2fddb0",
   "metadata": {},
   "outputs": [
    {
     "data": {
      "text/plain": [
       "dtype('int64')"
      ]
     },
     "execution_count": 99,
     "metadata": {},
     "output_type": "execute_result"
    }
   ],
   "source": [
    "array_bi.dtype"
   ]
  },
  {
   "cell_type": "code",
   "execution_count": 100,
   "id": "e3010c9d",
   "metadata": {},
   "outputs": [],
   "source": [
    "# Crea dos arrays (unidimensional, bidimensional) usando el método np.array().\n"
   ]
  },
  {
   "cell_type": "code",
   "execution_count": 101,
   "id": "8a37ecc0",
   "metadata": {},
   "outputs": [],
   "source": [
    "lista1 = [34,56,71,98, 10]\n",
    "lista2 = [[23,45,89, 56], [12,43,82,44]]"
   ]
  },
  {
   "cell_type": "code",
   "execution_count": 102,
   "id": "a9fb7d8f",
   "metadata": {},
   "outputs": [
    {
     "data": {
      "text/plain": [
       "array([34, 56, 71, 98, 10])"
      ]
     },
     "execution_count": 102,
     "metadata": {},
     "output_type": "execute_result"
    }
   ],
   "source": [
    "array_unidi= np.array(lista1)\n",
    "array_unidi"
   ]
  },
  {
   "cell_type": "code",
   "execution_count": 103,
   "id": "69f25d1d",
   "metadata": {},
   "outputs": [
    {
     "data": {
      "text/plain": [
       "1"
      ]
     },
     "execution_count": 103,
     "metadata": {},
     "output_type": "execute_result"
    }
   ],
   "source": [
    "array_unidi.ndim"
   ]
  },
  {
   "cell_type": "code",
   "execution_count": 104,
   "id": "dfe87064",
   "metadata": {},
   "outputs": [
    {
     "data": {
      "text/plain": [
       "dtype('int64')"
      ]
     },
     "execution_count": 104,
     "metadata": {},
     "output_type": "execute_result"
    }
   ],
   "source": [
    "array_unidi.dtype"
   ]
  },
  {
   "cell_type": "code",
   "execution_count": 105,
   "id": "7343d562",
   "metadata": {},
   "outputs": [
    {
     "data": {
      "text/plain": [
       "array([[94, 41, 53],\n",
       "       [97, 35, 83],\n",
       "       [79, 45, 43],\n",
       "       [56, 73, 53]])"
      ]
     },
     "execution_count": 105,
     "metadata": {},
     "output_type": "execute_result"
    }
   ],
   "source": [
    "array_bidi= np.array(lista2)\n",
    "array_bi"
   ]
  },
  {
   "cell_type": "code",
   "execution_count": 106,
   "id": "feb47fd4",
   "metadata": {},
   "outputs": [
    {
     "data": {
      "text/plain": [
       "2"
      ]
     },
     "execution_count": 106,
     "metadata": {},
     "output_type": "execute_result"
    }
   ],
   "source": [
    "array_bidi.ndim"
   ]
  },
  {
   "cell_type": "code",
   "execution_count": 107,
   "id": "32666312",
   "metadata": {},
   "outputs": [
    {
     "data": {
      "text/plain": [
       "dtype('int64')"
      ]
     },
     "execution_count": 107,
     "metadata": {},
     "output_type": "execute_result"
    }
   ],
   "source": [
    "array_bidi.dtype"
   ]
  },
  {
   "cell_type": "code",
   "execution_count": null,
   "id": "204d74a3",
   "metadata": {},
   "outputs": [],
   "source": [
    "# Crea un array unidimensional con 50 elementos con el método que prefieras y extrae:\n",
    "#El primer elemento.\n",
    "#Lo elementos que están en posición impar.\n",
    "#Los cuatro primeros elementos.\n",
    "#Los últimos tres elementos.\n",
    "#Los elementos entre el 4 y el 8 (incluido)"
   ]
  },
  {
   "cell_type": "code",
   "execution_count": 108,
   "id": "14350477",
   "metadata": {},
   "outputs": [],
   "source": [
    "array_uni2= np.arange(0,50,1)"
   ]
  },
  {
   "cell_type": "code",
   "execution_count": 109,
   "id": "8eff99be",
   "metadata": {},
   "outputs": [
    {
     "data": {
      "text/plain": [
       "array([ 0,  1,  2,  3,  4,  5,  6,  7,  8,  9, 10, 11, 12, 13, 14, 15, 16,\n",
       "       17, 18, 19, 20, 21, 22, 23, 24, 25, 26, 27, 28, 29, 30, 31, 32, 33,\n",
       "       34, 35, 36, 37, 38, 39, 40, 41, 42, 43, 44, 45, 46, 47, 48, 49])"
      ]
     },
     "execution_count": 109,
     "metadata": {},
     "output_type": "execute_result"
    }
   ],
   "source": [
    "array_uni2"
   ]
  },
  {
   "cell_type": "code",
   "execution_count": 110,
   "id": "08f60df1",
   "metadata": {},
   "outputs": [
    {
     "data": {
      "text/plain": [
       "0"
      ]
     },
     "execution_count": 110,
     "metadata": {},
     "output_type": "execute_result"
    }
   ],
   "source": [
    "array_uni2[0]"
   ]
  },
  {
   "cell_type": "code",
   "execution_count": 111,
   "id": "b608ce49",
   "metadata": {},
   "outputs": [
    {
     "data": {
      "text/plain": [
       "array([ 1,  3,  5,  7,  9, 11, 13, 15, 17, 19, 21, 23, 25, 27, 29, 31, 33,\n",
       "       35, 37, 39, 41, 43, 45, 47, 49])"
      ]
     },
     "execution_count": 111,
     "metadata": {},
     "output_type": "execute_result"
    }
   ],
   "source": [
    "numeros= []\n",
    "for i in range(51):\n",
    "    if i%2!=0:\n",
    "        num=array_uni2[i]\n",
    "        numeros.append(num)\n",
    "array_numeros=np.array(numeros)\n",
    "array_numeros"
   ]
  },
  {
   "cell_type": "code",
   "execution_count": 112,
   "id": "32d40ce7",
   "metadata": {},
   "outputs": [
    {
     "data": {
      "text/plain": [
       "array([0, 1, 2, 3])"
      ]
     },
     "execution_count": 112,
     "metadata": {},
     "output_type": "execute_result"
    }
   ],
   "source": [
    "array_uni2[:4]"
   ]
  },
  {
   "cell_type": "code",
   "execution_count": 113,
   "id": "28e2784d",
   "metadata": {},
   "outputs": [
    {
     "data": {
      "text/plain": [
       "array([47, 48, 49])"
      ]
     },
     "execution_count": 113,
     "metadata": {},
     "output_type": "execute_result"
    }
   ],
   "source": [
    "array_uni2[-3:]"
   ]
  },
  {
   "cell_type": "code",
   "execution_count": 114,
   "id": "1e3dc182",
   "metadata": {},
   "outputs": [
    {
     "data": {
      "text/plain": [
       "array([4, 5, 6, 7, 8])"
      ]
     },
     "execution_count": 114,
     "metadata": {},
     "output_type": "execute_result"
    }
   ],
   "source": [
    "array_uni2[4:9]"
   ]
  },
  {
   "cell_type": "code",
   "execution_count": 115,
   "id": "38025028",
   "metadata": {},
   "outputs": [
    {
     "data": {
      "text/plain": [
       "array([ 0,  1,  2,  3,  4,  5,  6,  7,  8,  9, 10, 11, 12, 13, 14, 15, 16,\n",
       "       17, 18, 19, 20, 21, 22, 23, 24, 25, 26, 27, 28, 29, 30, 31, 32, 33,\n",
       "       34, 35, 36, 37, 38, 39, 40, 41, 42, 43, 44, 45, 46, 47, 48, 49])"
      ]
     },
     "execution_count": 115,
     "metadata": {},
     "output_type": "execute_result"
    }
   ],
   "source": [
    "array_uni2"
   ]
  },
  {
   "cell_type": "code",
   "execution_count": null,
   "id": "98b22dba",
   "metadata": {},
   "outputs": [],
   "source": [
    "#Crea un array de dos dimensiones de 4 x 5 con el método que prefieras y extrae:\n",
    "#La primera fila y todas las columnas.\n",
    "#Todas las filas pares.\n",
    "#La primera columna y todas las filas."
   ]
  },
  {
   "cell_type": "code",
   "execution_count": 116,
   "id": "7c4aa6f7",
   "metadata": {},
   "outputs": [],
   "source": [
    "array_bi2= np.random.randint(0,10,(4,5))"
   ]
  },
  {
   "cell_type": "code",
   "execution_count": 117,
   "id": "a31df02f",
   "metadata": {},
   "outputs": [
    {
     "data": {
      "text/plain": [
       "array([[8, 7, 3, 7, 1],\n",
       "       [5, 0, 8, 2, 4],\n",
       "       [4, 8, 3, 4, 2],\n",
       "       [9, 2, 8, 7, 4]])"
      ]
     },
     "execution_count": 117,
     "metadata": {},
     "output_type": "execute_result"
    }
   ],
   "source": [
    "array_bi2"
   ]
  },
  {
   "cell_type": "code",
   "execution_count": 118,
   "id": "22cc9b7b",
   "metadata": {},
   "outputs": [
    {
     "data": {
      "text/plain": [
       "array([8, 7, 3, 7, 1])"
      ]
     },
     "execution_count": 118,
     "metadata": {},
     "output_type": "execute_result"
    }
   ],
   "source": [
    "array_bi2[0]"
   ]
  },
  {
   "cell_type": "code",
   "execution_count": 119,
   "id": "f2f274a4",
   "metadata": {},
   "outputs": [
    {
     "data": {
      "text/plain": [
       "array([[8, 7, 3, 7, 1],\n",
       "       [4, 8, 3, 4, 2]])"
      ]
     },
     "execution_count": 119,
     "metadata": {},
     "output_type": "execute_result"
    }
   ],
   "source": [
    "numeros2= []\n",
    "for i in range(4):\n",
    "    if i%2==0:\n",
    "        num=array_bi2[i]\n",
    "        numeros2.append(num)\n",
    "array_numeros2=np.array(numeros2)\n",
    "array_numeros2"
   ]
  },
  {
   "cell_type": "code",
   "execution_count": 120,
   "id": "86ca9450",
   "metadata": {},
   "outputs": [
    {
     "data": {
      "text/plain": [
       "array([[8, 7, 3, 7, 1],\n",
       "       [5, 0, 8, 2, 4],\n",
       "       [4, 8, 3, 4, 2],\n",
       "       [9, 2, 8, 7, 4]])"
      ]
     },
     "execution_count": 120,
     "metadata": {},
     "output_type": "execute_result"
    }
   ],
   "source": [
    "array_bi2"
   ]
  },
  {
   "cell_type": "code",
   "execution_count": 121,
   "id": "0091a717",
   "metadata": {},
   "outputs": [],
   "source": [
    "def column(matrix, i):\n",
    "    return [row[i] for row in matrix]"
   ]
  },
  {
   "cell_type": "code",
   "execution_count": 122,
   "id": "310f784b",
   "metadata": {},
   "outputs": [
    {
     "data": {
      "text/plain": [
       "[8, 5, 4, 9]"
      ]
     },
     "execution_count": 122,
     "metadata": {},
     "output_type": "execute_result"
    }
   ],
   "source": [
    "column(array_bi2,0)"
   ]
  }
 ],
 "metadata": {
  "kernelspec": {
   "display_name": "base",
   "language": "python",
   "name": "python3"
  },
  "language_info": {
   "codemirror_mode": {
    "name": "ipython",
    "version": 3
   },
   "file_extension": ".py",
   "mimetype": "text/x-python",
   "name": "python",
   "nbconvert_exporter": "python",
   "pygments_lexer": "ipython3",
   "version": "3.12.7"
  }
 },
 "nbformat": 4,
 "nbformat_minor": 5
}
