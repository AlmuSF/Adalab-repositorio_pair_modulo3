{
 "cells": [
  {
   "cell_type": "code",
   "execution_count": null,
   "id": "2672c31f",
   "metadata": {},
   "outputs": [],
   "source": [
    "\n",
    "# importamos las librerías que necesitamos\n",
    "\n",
    "# Tratamiento de datos\n",
    "# -----------------------------------------------------------------------\n",
    "import pandas as pd\n",
    "import numpy as np\n",
    "\n",
    "# Visualización\n",
    "# ------------------------------------------------------------------------------\n",
    "import matplotlib.pyplot as plt\n",
    "import seaborn as sns\n",
    "\n",
    "# Evaluar linealidad de las relaciones entre las variables\n",
    "# y la distribución de las variables\n",
    "# ------------------------------------------------------------------------------\n",
    "#import scipy.stats as stats\n",
    "import scipy.stats as st\n",
    "import scipy.stats as stats\n",
    "from scipy.stats import shapiro, poisson, chisquare, expon, kstest\n",
    "\n",
    "\n",
    "# Configuración\n",
    "# -----------------------------------------------------------------------\n",
    "pd.set_option('display.max_columns', None) # para poder visualizar todas las columnas de los DataFrames\n",
    "\n",
    "# Gestión de los warnings\n",
    "# -----------------------------------------------------------------------\n",
    "import warnings\n",
    "warnings.filterwarnings(\"ignore\")"
   ]
  },
  {
   "cell_type": "code",
   "execution_count": null,
   "id": "a8327a8c",
   "metadata": {},
   "outputs": [],
   "source": [
    "df = pd.read_csv(\"merchant_fill_nonulls.csv\", index_col = 0)\n",
    "df.head()\n"
   ]
  },
  {
   "cell_type": "markdown",
   "id": "3ac28d65",
   "metadata": {},
   "source": [
    "# 1 Ejercicios intervalo de confianza: \n",
    "Para cada uno de los ejercicios interpreta los resultados y piensa que ventaja a nivel de negocio podemos sacar de calcularlo.\n"
   ]
  },
  {
   "cell_type": "markdown",
   "id": "06c1b210",
   "metadata": {},
   "source": [
    "## 1.1 \n",
    "Trabajas para una plataforma de comercio en línea y **deseas determinar el intervalo de confianza al 95% para el precio promedio** deseas determinar el intervalo de confianza al 95% para el precio promedio de productos con una cantidad de media de valoraciones al producto de 500."
   ]
  },
  {
   "cell_type": "code",
   "execution_count": 10,
   "id": "b01ddc3a",
   "metadata": {},
   "outputs": [
    {
     "data": {
      "text/plain": [
       "Index(['title', 'price', 'retail_price', 'units_sold', 'uses_ad_boosts',\n",
       "       'rating_sold', 'rating_count', 'badge_local_product',\n",
       "       'badge_product_quality', 'badge_fast_shipping', 'tags', 'product_color',\n",
       "       'product_variation_size_id', 'shipping_option_name',\n",
       "       'shipping_option_price', 'shipping_is_express', 'countries_shipped_to',\n",
       "       'inventory_total', 'origin_country', 'merchant_name',\n",
       "       'merchant_info_subtitle', 'merchant_rating_count', 'merchant_id',\n",
       "       'product_url', 'product_id', 'listed_products', 'total_units_sold',\n",
       "       'mean_units_sold_per_product', 'rating_employee',\n",
       "       'merchant_ratings_count', 'mean_product_prices', 'mean_retail_prices',\n",
       "       'mean_product_ratings_count', 'discount_percentage',\n",
       "       'seller_reputation', 'rating_four_count', 'rating_three_count',\n",
       "       'rating_two_count', 'rating_one_count', 'rating_five_count'],\n",
       "      dtype='object')"
      ]
     },
     "execution_count": 10,
     "metadata": {},
     "output_type": "execute_result"
    }
   ],
   "source": [
    "df.columns"
   ]
  },
  {
   "cell_type": "code",
   "execution_count": null,
   "id": "7b4b8157",
   "metadata": {},
   "outputs": [],
   "source": [
    "df_500 = df[df['mean_product_ratings_count'] > 500]\n",
    "df_500"
   ]
  },
  {
   "cell_type": "code",
   "execution_count": null,
   "id": "654b5f20",
   "metadata": {},
   "outputs": [],
   "source": [
    "# 4. Calculamos el intervalo de confianza\n",
    "\n",
    "# Extraer la columna 'price' (duración de llamadas en segundos)\n",
    "price = df_500['price']\n",
    "# Tamaño de la muestra\n",
    "n = len(price)\n",
    "\n",
    "# \n",
    "mean_price= df_500['price'].mean()\n",
    "std_price = df_500['price'].std()\n",
    "\n",
    "# Calcular el intervalo de confianza al 95%\n",
    "confidence_interval = stats.t.interval(\n",
    "    confidence=0.95,         # Nivel de confianza\n",
    "    df=n-1,             # Grados de libertad\n",
    "    loc=mean_price,  # Media de la muestra\n",
    "    scale=std_price/ np.sqrt(n)  # Error estándar de la media\n",
    ")\n",
    "\n",
    "# Mostrar el resultado\n",
    "print(f\"Media: {mean_price:.2f} dólares\")\n",
    "print(f\"Intervalo de Confianza al 95%: {confidence_interval}\")"
   ]
  },
  {
   "cell_type": "markdown",
   "id": "9e352d0b",
   "metadata": {},
   "source": [
    "## 1.2 IC\n",
    "Eres un analista de ventas en una plataforma de comercio electrónico y quieres calcular el __intervalo de confianza al 90% para el número promedio de unidades vendidas por producto__.\n"
   ]
  },
  {
   "cell_type": "code",
   "execution_count": 11,
   "id": "ac67aac0",
   "metadata": {},
   "outputs": [
    {
     "data": {
      "application/vnd.microsoft.datawrangler.viewer.v0+json": {
       "columns": [
        {
         "name": "index",
         "rawType": "int64",
         "type": "integer"
        },
        {
         "name": "total_units_sold",
         "rawType": "int64",
         "type": "integer"
        },
        {
         "name": "units_sold",
         "rawType": "int64",
         "type": "integer"
        },
        {
         "name": "product_id",
         "rawType": "object",
         "type": "string"
        }
       ],
       "ref": "b8e460d8-3479-4221-a962-7da76ffa912e",
       "rows": [
        [
         "0",
         "100",
         "100",
         "5e9ae51d43d6a96e303acdb0"
        ],
        [
         "1",
         "21400",
         "20000",
         "58940d436a0d3d5da4e95a38"
        ],
        [
         "2",
         "21400",
         "1000",
         "5df2576d68963c1660471f9a"
        ],
        [
         "3",
         "21400",
         "100",
         "5d58daef3159a812b05933d2"
        ],
        [
         "4",
         "21400",
         "100",
         "5e9fa7de39682a0043ab7898"
        ],
        [
         "5",
         "21400",
         "100",
         "5e9fa7de39682a0043ab7898"
        ],
        [
         "6",
         "21400",
         "100",
         "5d58daef3159a812b05933d2"
        ],
        [
         "7",
         "120",
         "100",
         "5ea10e2c617580260d55310a"
        ],
        [
         "8",
         "120",
         "10",
         "5eb90ab5ad67f63678d15ed9"
        ],
        [
         "9",
         "120",
         "10",
         "5eb90ab5ad67f63678d15ed9"
        ],
        [
         "10",
         "11100",
         "5000",
         "5cedf17ad1d44c52c59e4aca"
        ],
        [
         "11",
         "11100",
         "5000",
         "5cedf17ad1d44c52c59e4aca"
        ],
        [
         "12",
         "11100",
         "100",
         "5ec23bea8bef5b2d1d994b95"
        ],
        [
         "13",
         "11100",
         "1000",
         "5c6a4bbb3abfb51118b000ca"
        ],
        [
         "14",
         "20200",
         "100",
         "5ebf5819ebac372b070b0e70"
        ],
        [
         "15",
         "20200",
         "100",
         "5ebf5819ebac372b070b0e70"
        ],
        [
         "16",
         "20200",
         "20000",
         "5d07120c11e6065641900fc4"
        ],
        [
         "17",
         "10",
         "10",
         "5ec645bafd107a02279c8c54"
        ],
        [
         "18",
         "50000",
         "50000",
         "5c63a337d5e2ce4bbb3152cf"
        ],
        [
         "19",
         "1000",
         "1000",
         "5e0ae5ebc2efb76ccf0a3391"
        ]
       ],
       "shape": {
        "columns": 3,
        "rows": 20
       }
      },
      "text/html": [
       "<div>\n",
       "<style scoped>\n",
       "    .dataframe tbody tr th:only-of-type {\n",
       "        vertical-align: middle;\n",
       "    }\n",
       "\n",
       "    .dataframe tbody tr th {\n",
       "        vertical-align: top;\n",
       "    }\n",
       "\n",
       "    .dataframe thead th {\n",
       "        text-align: right;\n",
       "    }\n",
       "</style>\n",
       "<table border=\"1\" class=\"dataframe\">\n",
       "  <thead>\n",
       "    <tr style=\"text-align: right;\">\n",
       "      <th></th>\n",
       "      <th>total_units_sold</th>\n",
       "      <th>units_sold</th>\n",
       "      <th>product_id</th>\n",
       "    </tr>\n",
       "  </thead>\n",
       "  <tbody>\n",
       "    <tr>\n",
       "      <th>0</th>\n",
       "      <td>100</td>\n",
       "      <td>100</td>\n",
       "      <td>5e9ae51d43d6a96e303acdb0</td>\n",
       "    </tr>\n",
       "    <tr>\n",
       "      <th>1</th>\n",
       "      <td>21400</td>\n",
       "      <td>20000</td>\n",
       "      <td>58940d436a0d3d5da4e95a38</td>\n",
       "    </tr>\n",
       "    <tr>\n",
       "      <th>2</th>\n",
       "      <td>21400</td>\n",
       "      <td>1000</td>\n",
       "      <td>5df2576d68963c1660471f9a</td>\n",
       "    </tr>\n",
       "    <tr>\n",
       "      <th>3</th>\n",
       "      <td>21400</td>\n",
       "      <td>100</td>\n",
       "      <td>5d58daef3159a812b05933d2</td>\n",
       "    </tr>\n",
       "    <tr>\n",
       "      <th>4</th>\n",
       "      <td>21400</td>\n",
       "      <td>100</td>\n",
       "      <td>5e9fa7de39682a0043ab7898</td>\n",
       "    </tr>\n",
       "    <tr>\n",
       "      <th>5</th>\n",
       "      <td>21400</td>\n",
       "      <td>100</td>\n",
       "      <td>5e9fa7de39682a0043ab7898</td>\n",
       "    </tr>\n",
       "    <tr>\n",
       "      <th>6</th>\n",
       "      <td>21400</td>\n",
       "      <td>100</td>\n",
       "      <td>5d58daef3159a812b05933d2</td>\n",
       "    </tr>\n",
       "    <tr>\n",
       "      <th>7</th>\n",
       "      <td>120</td>\n",
       "      <td>100</td>\n",
       "      <td>5ea10e2c617580260d55310a</td>\n",
       "    </tr>\n",
       "    <tr>\n",
       "      <th>8</th>\n",
       "      <td>120</td>\n",
       "      <td>10</td>\n",
       "      <td>5eb90ab5ad67f63678d15ed9</td>\n",
       "    </tr>\n",
       "    <tr>\n",
       "      <th>9</th>\n",
       "      <td>120</td>\n",
       "      <td>10</td>\n",
       "      <td>5eb90ab5ad67f63678d15ed9</td>\n",
       "    </tr>\n",
       "    <tr>\n",
       "      <th>10</th>\n",
       "      <td>11100</td>\n",
       "      <td>5000</td>\n",
       "      <td>5cedf17ad1d44c52c59e4aca</td>\n",
       "    </tr>\n",
       "    <tr>\n",
       "      <th>11</th>\n",
       "      <td>11100</td>\n",
       "      <td>5000</td>\n",
       "      <td>5cedf17ad1d44c52c59e4aca</td>\n",
       "    </tr>\n",
       "    <tr>\n",
       "      <th>12</th>\n",
       "      <td>11100</td>\n",
       "      <td>100</td>\n",
       "      <td>5ec23bea8bef5b2d1d994b95</td>\n",
       "    </tr>\n",
       "    <tr>\n",
       "      <th>13</th>\n",
       "      <td>11100</td>\n",
       "      <td>1000</td>\n",
       "      <td>5c6a4bbb3abfb51118b000ca</td>\n",
       "    </tr>\n",
       "    <tr>\n",
       "      <th>14</th>\n",
       "      <td>20200</td>\n",
       "      <td>100</td>\n",
       "      <td>5ebf5819ebac372b070b0e70</td>\n",
       "    </tr>\n",
       "    <tr>\n",
       "      <th>15</th>\n",
       "      <td>20200</td>\n",
       "      <td>100</td>\n",
       "      <td>5ebf5819ebac372b070b0e70</td>\n",
       "    </tr>\n",
       "    <tr>\n",
       "      <th>16</th>\n",
       "      <td>20200</td>\n",
       "      <td>20000</td>\n",
       "      <td>5d07120c11e6065641900fc4</td>\n",
       "    </tr>\n",
       "    <tr>\n",
       "      <th>17</th>\n",
       "      <td>10</td>\n",
       "      <td>10</td>\n",
       "      <td>5ec645bafd107a02279c8c54</td>\n",
       "    </tr>\n",
       "    <tr>\n",
       "      <th>18</th>\n",
       "      <td>50000</td>\n",
       "      <td>50000</td>\n",
       "      <td>5c63a337d5e2ce4bbb3152cf</td>\n",
       "    </tr>\n",
       "    <tr>\n",
       "      <th>19</th>\n",
       "      <td>1000</td>\n",
       "      <td>1000</td>\n",
       "      <td>5e0ae5ebc2efb76ccf0a3391</td>\n",
       "    </tr>\n",
       "  </tbody>\n",
       "</table>\n",
       "</div>"
      ],
      "text/plain": [
       "    total_units_sold  units_sold                product_id\n",
       "0                100         100  5e9ae51d43d6a96e303acdb0\n",
       "1              21400       20000  58940d436a0d3d5da4e95a38\n",
       "2              21400        1000  5df2576d68963c1660471f9a\n",
       "3              21400         100  5d58daef3159a812b05933d2\n",
       "4              21400         100  5e9fa7de39682a0043ab7898\n",
       "5              21400         100  5e9fa7de39682a0043ab7898\n",
       "6              21400         100  5d58daef3159a812b05933d2\n",
       "7                120         100  5ea10e2c617580260d55310a\n",
       "8                120          10  5eb90ab5ad67f63678d15ed9\n",
       "9                120          10  5eb90ab5ad67f63678d15ed9\n",
       "10             11100        5000  5cedf17ad1d44c52c59e4aca\n",
       "11             11100        5000  5cedf17ad1d44c52c59e4aca\n",
       "12             11100         100  5ec23bea8bef5b2d1d994b95\n",
       "13             11100        1000  5c6a4bbb3abfb51118b000ca\n",
       "14             20200         100  5ebf5819ebac372b070b0e70\n",
       "15             20200         100  5ebf5819ebac372b070b0e70\n",
       "16             20200       20000  5d07120c11e6065641900fc4\n",
       "17                10          10  5ec645bafd107a02279c8c54\n",
       "18             50000       50000  5c63a337d5e2ce4bbb3152cf\n",
       "19              1000        1000  5e0ae5ebc2efb76ccf0a3391"
      ]
     },
     "execution_count": 11,
     "metadata": {},
     "output_type": "execute_result"
    }
   ],
   "source": [
    "df[['total_units_sold', 'units_sold', 'product_id']].head(20)"
   ]
  },
  {
   "cell_type": "code",
   "execution_count": 12,
   "id": "b690d11b",
   "metadata": {},
   "outputs": [
    {
     "name": "stdout",
     "output_type": "stream",
     "text": [
      "Media: 11299.40 cantidad total de unidades vendidas\n",
      "Intervalo de Confianza al 90%: (10512.063072788747, 12086.732858552637)\n"
     ]
    }
   ],
   "source": [
    "# 4. Calculamos el intervalo de confianza\n",
    "\n",
    "# Extraer la columna 'total_units_sold'\n",
    "total_units = df['total_units_sold']\n",
    "# Tamaño de la muestra\n",
    "n = len(total_units)\n",
    "\n",
    "# \n",
    "mean_units= df['total_units_sold'].mean()\n",
    "std_units = df['total_units_sold'].std()\n",
    "\n",
    "# Calcular el intervalo de confianza al 90%\n",
    "confidence_interval = stats.t.interval(\n",
    "    confidence=0.90,         # Nivel de confianza\n",
    "    df=n-1,             # Grados de libertad\n",
    "    loc=mean_units,  # Media de la muestra\n",
    "    scale=std_units/ np.sqrt(n)  # Error estándar de la media\n",
    ")\n",
    "\n",
    "# Mostrar el resultado\n",
    "print(f\"Media: {mean_units:.2f} cantidad total de unidades vendidas\")\n",
    "print(f\"Intervalo de Confianza al 90%: {confidence_interval}\")"
   ]
  },
  {
   "cell_type": "markdown",
   "id": "9d7aa6c5",
   "metadata": {},
   "source": [
    "## 1.3 \n",
    "Trabajas en la gestión de inventario de una tienda en línea y necesitas calcular el __intervalo de confianza al 99% para el precio promedio de productos__ según su __país de origen__."
   ]
  },
  {
   "cell_type": "code",
   "execution_count": null,
   "id": "9af4654b",
   "metadata": {},
   "outputs": [
    {
     "data": {
      "application/vnd.microsoft.datawrangler.viewer.v0+json": {
       "columns": [
        {
         "name": "origin_country",
         "rawType": "object",
         "type": "string"
        },
        {
         "name": "price",
         "rawType": "float64",
         "type": "float"
        }
       ],
       "ref": "3afd975c-9eac-4348-8b9d-548acd9e2236",
       "rows": [
        [
         "AT",
         "7.0"
        ],
        [
         "CN",
         "8.310665362035225"
        ],
        [
         "GB",
         "9.0"
        ],
        [
         "SG",
         "3.38"
        ],
        [
         "US",
         "9.397096774193548"
        ],
        [
         "VE",
         "8.298"
        ]
       ],
       "shape": {
        "columns": 1,
        "rows": 6
       }
      },
      "text/plain": [
       "origin_country\n",
       "AT    7.000000\n",
       "CN    8.310665\n",
       "GB    9.000000\n",
       "SG    3.380000\n",
       "US    9.397097\n",
       "VE    8.298000\n",
       "Name: price, dtype: float64"
      ]
     },
     "execution_count": 21,
     "metadata": {},
     "output_type": "execute_result"
    }
   ],
   "source": [
    "\n",
    "df_countries = df.groupby('origin_country')['price'].mean()\n",
    "df_countries\n"
   ]
  },
  {
   "cell_type": "code",
   "execution_count": 22,
   "id": "d8d95383",
   "metadata": {},
   "outputs": [
    {
     "name": "stdout",
     "output_type": "stream",
     "text": [
      "Media: 8.33 precio por país de orígen\n",
      "Intervalo de Confianza al 99%: (8.069691685108952, 8.581052116543942)\n"
     ]
    }
   ],
   "source": [
    "# 4. Calculamos el intervalo de confianza\n",
    "\n",
    "# Extraer la columna 'price'\n",
    "avg_price = df['price']\n",
    "# Tamaño de la muestra\n",
    "n = len(df)\n",
    "\n",
    "# \n",
    "mean= df['price'].mean()\n",
    "std = df['price'].std()\n",
    "\n",
    "# Calcular el intervalo de confianza al 90%\n",
    "confidence_interval = stats.t.interval(\n",
    "    confidence=0.99,         # Nivel de confianza\n",
    "    df=n-1,             # Grados de libertad\n",
    "    loc=mean,  # Media de la muestra\n",
    "    scale=std/ np.sqrt(n)  # Error estándar de la media\n",
    ")\n",
    "\n",
    "# Mostrar el resultado\n",
    "print(f\"Media: {mean:.2f} precio por país de orígen\")\n",
    "print(f\"Intervalo de Confianza al 99%: {confidence_interval}\")"
   ]
  }
 ],
 "metadata": {
  "kernelspec": {
   "display_name": "base",
   "language": "python",
   "name": "python3"
  },
  "language_info": {
   "codemirror_mode": {
    "name": "ipython",
    "version": 3
   },
   "file_extension": ".py",
   "mimetype": "text/x-python",
   "name": "python",
   "nbconvert_exporter": "python",
   "pygments_lexer": "ipython3",
   "version": "3.12.7"
  }
 },
 "nbformat": 4,
 "nbformat_minor": 5
}
