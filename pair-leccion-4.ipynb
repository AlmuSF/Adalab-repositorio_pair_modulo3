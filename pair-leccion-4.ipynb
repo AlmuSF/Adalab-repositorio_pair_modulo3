{
 "cells": [
  {
   "cell_type": "markdown",
   "id": "023779e1",
   "metadata": {},
   "source": [
    "## 1\n",
    "Unid los dos DataFrames en uno solo, usando el método que considereis más correcto. Querremos quedarnos con todos los productos que estén en los dos conjuntos de datos."
   ]
  },
  {
   "cell_type": "code",
   "execution_count": null,
   "id": "32327aab",
   "metadata": {},
   "outputs": [],
   "source": []
  },
  {
   "cell_type": "markdown",
   "id": "85c20ce1",
   "metadata": {},
   "source": [
    "## 2\n",
    "Explorad el nombre de las columnas, ¿hay alguna que esté repetida o que no nos aporte información de valor? ¿Hay alguna columna que solo tenga un valor? En caso de ser así, eliminadlas. \n",
    "\n",
    "NOTA Hay tres columnas que cuando exploramos sus valores únicos y sus frecuencias ayer, nos deberíamos haber dado cuenta que solo tiene un valor."
   ]
  },
  {
   "cell_type": "code",
   "execution_count": null,
   "id": "b8d6d8cd",
   "metadata": {},
   "outputs": [],
   "source": []
  },
  {
   "cell_type": "markdown",
   "id": "28476562",
   "metadata": {},
   "source": [
    "## 3\n",
    "Algunas de las columnas tienen . en sus nombres y en otras tenemos _. Unifica el nombre de las columnas para que todas tengan \"_\". Además, todas deben estar en minúsculas."
   ]
  },
  {
   "cell_type": "code",
   "execution_count": null,
   "id": "aa1dec90",
   "metadata": {},
   "outputs": [],
   "source": []
  },
  {
   "cell_type": "markdown",
   "id": "15afcf7a",
   "metadata": {},
   "source": [
    "## 4\n",
    "En la columna de merchant_info_subtitle, si nos fijamos hay algunas celdas donde tenemos entre paréntesis el número total de calificaciones para el comerciante (que es la misma información que la que tenemos en la columna \"merchant_rating_count\"). Eliminad de la columna \"merchant_info_subtitle\" la parte del string de los paréntesis. Guardar el resultado de vuestra limpieza en una columna que se llame igual, es decir, \"merchant_info_subtitle\"."
   ]
  },
  {
   "cell_type": "code",
   "execution_count": null,
   "id": "58a326e3",
   "metadata": {},
   "outputs": [],
   "source": []
  },
  {
   "cell_type": "markdown",
   "id": "dfbb9687",
   "metadata": {},
   "source": [
    "## 5\n",
    "Si nos fijamos, en la primera fila antes solo teníamos un paréntesis, pero los hemos eliminado en el paso anterior, y ahora tenemos un string vacío, lo cual no tiene mucho sentido. En este ejercicio debereis reemplazar esos strings vacios por nulos de Pandas (NOTA estos deben ser indicados de la siguiente forma np.nan, y deberéis importar numpy)."
   ]
  },
  {
   "cell_type": "code",
   "execution_count": null,
   "id": "99a60889",
   "metadata": {},
   "outputs": [],
   "source": []
  },
  {
   "cell_type": "markdown",
   "id": "c010babd",
   "metadata": {},
   "source": [
    "## 6\n",
    "Hay ciertas columnas que no vamos a necesitar para nuestro análisis. En concreto, vamos a eliminar las columnas de badges_count, product_variation_inventory, urgency_text, merchant_title, merchant_has_profile_picture, merchant_profile_picture, product_picture, total_urgency_count, has_urgency_banner y urgency_text_rate. Guardad los cambios realizados hasta este punto en un csv para usarlo en los ejercicios de la lección de mañana."
   ]
  },
  {
   "cell_type": "code",
   "execution_count": null,
   "id": "a899c631",
   "metadata": {},
   "outputs": [],
   "source": []
  },
  {
   "cell_type": "markdown",
   "id": "f4b9cbea",
   "metadata": {},
   "source": [
    "## 7\n",
    "Pongamos en práctica el filtrado de datos en Pandas:\n",
    "\n",
    "Seleccionad aquellos productos cuyo color es verde. ¿Cuántos productos tenemos?\n",
    "\n",
    "Seleccionad aquellos productos cuyo color es verde y rojo. ¿Cuántos productos tenemos de cada tipo de color?\n",
    "\n",
    "Seleccionad aquellos productos de la talla M, que valgan más de 15. ¿Cuántos productos tenemos?\n",
    "\n",
    "Seleccionad aquellos productos cuyo precio este entre 1 y 2 (ambos inclusive). ¿Cuántos productos tenemos?\n",
    "\n",
    "Filtrad los datos, para extraer solo aquellos productos que tengan uno o más dígitos en su titulo. ¿Cuántos productos hay?"
   ]
  },
  {
   "cell_type": "code",
   "execution_count": null,
   "id": "ec0c1034",
   "metadata": {},
   "outputs": [],
   "source": []
  }
 ],
 "metadata": {
  "kernelspec": {
   "display_name": "base",
   "language": "python",
   "name": "python3"
  },
  "language_info": {
   "name": "python",
   "version": "3.12.7"
  }
 },
 "nbformat": 4,
 "nbformat_minor": 5
}
